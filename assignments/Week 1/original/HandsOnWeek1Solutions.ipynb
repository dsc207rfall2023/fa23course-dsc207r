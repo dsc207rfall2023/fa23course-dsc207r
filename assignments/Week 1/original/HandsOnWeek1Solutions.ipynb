{
  "cells": [
    {
      "cell_type": "markdown",
      "metadata": {
        "id": "Jys5aFwBosYh"
      },
      "source": [
        "# Week 1 Study Notebook Solutions\n",
        "\n",
        "# UC San Diego OMDS DSC 207\n",
        "\n",
        "## Check your Python skills while using Jupyter notebooks."
      ]
    },
    {
      "cell_type": "markdown",
      "metadata": {
        "id": "TfRvFpeUosYl"
      },
      "source": [
        "### 1.  Write a program to swap a string and an int variable and print their data types to verify the swapping operation\n",
        "\n",
        "* Initialize 2 variables my_int = 5 , and my_str = \"Hi\"\n",
        "* Swap these variables such that my_int now holds the value of my_str and vice versa\n",
        "* Verify this by printing their data types"
      ]
    },
    {
      "cell_type": "code",
      "execution_count": null,
      "metadata": {
        "id": "UCvt9SNeosYl",
        "colab": {
          "base_uri": "https://localhost:8080/"
        },
        "outputId": "9b2d69f8-8619-4fb8-e516-3df9a663f5bc"
      },
      "outputs": [
        {
          "output_type": "stream",
          "name": "stdout",
          "text": [
            "Value of my_int =  Hi\n",
            "Data type of my_int =  <class 'str'>\n",
            "Value of my_str =  5\n",
            "Data type of my_str =  <class 'int'>\n"
          ]
        }
      ],
      "source": [
        "# COMPLETE THE CELL BELOW\n",
        "\n",
        "my_int = 5\n",
        "my_str = \"Hi\"\n",
        "\n",
        "my_temp = my_int\n",
        "my_int = my_str\n",
        "my_str = my_temp\n",
        "\n",
        "print (\"Value of my_int = \", my_int)\n",
        "print (\"Data type of my_int = \", type(my_int))\n",
        "print (\"Value of my_str = \", my_str)\n",
        "print (\"Data type of my_str = \", type(my_str))"
      ]
    },
    {
      "cell_type": "markdown",
      "metadata": {
        "id": "LSs04om0osYn"
      },
      "source": [
        "### 2. Write a Python Program to Calculate the length of the diagonal of a rectangle\n",
        "\n",
        "* Initialize the 2 sides of the rectangle a and b to 5 and 6\n",
        "* Calculate the length of the diagonal using the formula - diagonal = √(a^2 + b^2)"
      ]
    },
    {
      "cell_type": "code",
      "execution_count": null,
      "metadata": {
        "id": "X4vMh4K3osYn",
        "colab": {
          "base_uri": "https://localhost:8080/"
        },
        "outputId": "b151f895-d595-424a-9a01-a45382a66bda"
      },
      "outputs": [
        {
          "output_type": "stream",
          "name": "stdout",
          "text": [
            "The length of the diagonal of the rectangle is 7.81\n"
          ]
        }
      ],
      "source": [
        "# COMPLETE THE CELL BELOW\n",
        "\n",
        "a = 5\n",
        "b = 6\n",
        "\n",
        "diagonal = (a ** 2 + b ** 2) ** (1/2)# calculate the diagonal length\n",
        "\n",
        "print('The length of the diagonal of the rectangle is %0.2f' %diagonal)"
      ]
    },
    {
      "cell_type": "markdown",
      "metadata": {
        "id": "LpS1sfnbosYo"
      },
      "source": [
        "### 3. Write a Python Program to Check if a Number is divisible by 3\n",
        "\n",
        "* Initialize a variable that takes input from user\n",
        "* Check and print if the number is divisible by 3"
      ]
    },
    {
      "cell_type": "code",
      "execution_count": null,
      "metadata": {
        "id": "6krH6CUoosYo"
      },
      "outputs": [],
      "source": [
        "# COMPLETE CELL BELOW\n",
        "denominator = 3\n",
        "\n",
        "num = input(\"What number to check if divisible by three: \")# Take input from user\n",
        "\n",
        "# Check if the number is divisible by 3\n",
        "try:\n",
        "    num = int(num)\n",
        "    mod_result = int(num) % denominator\n",
        "    if  mod_result == 0:\n",
        "        print('Yes, it is divisible by ', denominator)\n",
        "        print(f'{num} divided by {denominator} is {int(num / denominator)}')\n",
        "    else:\n",
        "        print('No, it is not divisible by ', denominator)\n",
        "except ValueError as ted:\n",
        "    print('Please enter an integer.')"
      ]
    },
    {
      "cell_type": "markdown",
      "metadata": {
        "id": "m2w5G35OosYp"
      },
      "source": [
        "### 4. Write a Python Program to Check if a number has exactly 3 digits(no zeros allowed at the beginning and the number can be assumed to be positive)\n",
        "\n",
        "* Initialize a variable that takes input from user(input will be given as a string)\n",
        "* Check and print if the number has exactly 3 digits(no zeros allowed at the beginning)\n",
        "* Read about type casting in python and use type casting from string to int"
      ]
    },
    {
      "cell_type": "code",
      "execution_count": null,
      "metadata": {
        "id": "xpK_3mdOosYq"
      },
      "outputs": [],
      "source": [
        "# COMPLETE THE CELL BELOW\n",
        "num = input('Enter number to check digit length: ') # Take input from user\n",
        "number_of_digits = 3\n",
        "\n",
        "# Check if the number has exactly 3 digits\n",
        "num = num.strip()\n",
        "try:\n",
        "    int_num = int(num)\n",
        "    if 0 < int_num / 100 < 10:\n",
        "        print(f'Number had {number_of_digits} digits.')\n",
        "    else:\n",
        "        print(f'Number did not have {number_of_digits} digits')\n",
        "except Exception as ein:\n",
        "    print('Please enter a value that can be interpreted as an integer.\\n', ein)"
      ]
    },
    {
      "cell_type": "markdown",
      "metadata": {
        "id": "ANV3W0MrosYq"
      },
      "source": [
        "### 5. Write a Python Program to Check Whether a String is Palindrome or Not\n",
        "\n",
        "* Initialize a string\n",
        "* Lower case it to allow easy comparison\n",
        "* Check using if-else statements if the string is a palindrome\n",
        "* A palindrome is a string which is same read forward or backwards."
      ]
    },
    {
      "cell_type": "code",
      "execution_count": null,
      "metadata": {
        "id": "98Hlh4ODosYr"
      },
      "outputs": [],
      "source": [
        "# COMPLETE CELL BELOW\n",
        "\n",
        "my_str = 'aIbohPhoBiA' # change this value for a different output\n",
        "my_str = \"RaceCar\"\n",
        "my_str_low = my_str.lower()\n",
        "\n",
        "if my_str_low == my_str_low[::-1]:\n",
        "    print(f'{my_str} is a palindrome')"
      ]
    },
    {
      "cell_type": "markdown",
      "metadata": {
        "id": "y9uM_zlVosYr"
      },
      "source": [
        "### 6.  **Print numbers divisible by 5 between 4 and 30, inclusive**\n",
        "\n",
        "* Iterate through the numbers in the for loop and notice the way range has been used to generate numbers in the for loop\n",
        "* Print only the numbers divisible by 5 using if statement"
      ]
    },
    {
      "cell_type": "code",
      "execution_count": null,
      "metadata": {
        "id": "7560mLcsosYs"
      },
      "outputs": [],
      "source": [
        "# COMPLETE THE CELL BELOW\n",
        "\n",
        "limit = range(4,31)\n",
        "for number in limit: # Complete the loop\n",
        "    if number % 5 == 0:\n",
        "        print(number)"
      ]
    },
    {
      "cell_type": "markdown",
      "metadata": {
        "id": "XyWnVUNxosYs"
      },
      "source": [
        "### 7. Write a Python Program to print the first n numbers of the Fibonacci series starting from 0\n",
        "\n",
        "* Initialize a variable n that denotes the number of elements of the Fibonacci series to be computed\n",
        "* Use a loop to print the first n numbers of the Fibonacci series: 0,1,1,2,3,....\n"
      ]
    },
    {
      "cell_type": "code",
      "execution_count": null,
      "metadata": {
        "id": "QGh1jI2eosYs",
        "colab": {
          "base_uri": "https://localhost:8080/"
        },
        "outputId": "0c63738c-d53a-48c2-dc93-221e5dcd11dc"
      },
      "outputs": [
        {
          "output_type": "stream",
          "name": "stdout",
          "text": [
            "[0, 1, 1, 2, 3, 5, 8, 13, 21, 34, 55]\n"
          ]
        }
      ],
      "source": [
        "# COMPLETE CELL BELOW\n",
        "\n",
        "n = 11\n",
        "fib_series = [0, 1]\n",
        "while len(fib_series) < n:\n",
        "    fib_series += [sum(fib_series[-2:])]\n",
        "print(fib_series)"
      ]
    },
    {
      "cell_type": "markdown",
      "metadata": {
        "id": "rKHjM-Z7osYs"
      },
      "source": [
        "### 8. Write a Python Program that defines a function to Remove Vowels From a String\n",
        "\n",
        "* You can initialize a string of your choice\n",
        "* Define the function\n",
        "* Use a for loop to remove vowels"
      ]
    },
    {
      "cell_type": "code",
      "execution_count": null,
      "metadata": {
        "id": "W2BOUpstosYt"
      },
      "outputs": [],
      "source": [
        "# COMPLETE THE CELL BELOW\n",
        "\n",
        "vowels = '''aeiouAEIOU''' # define vowels\n",
        "\n",
        "def removeVowel(s): # Complete the function using a for loop\n",
        "    new_string = ''\n",
        "    for char_index in range(0,len(s)):\n",
        "        if s[char_index] not in vowels:\n",
        "            new_string += s[char_index]\n",
        "    return new_string\n",
        "\n",
        "my_str = \"Hello, how are you?. I hope you are doing well.\"\n",
        "# my_str = input(\"Enter a string: \") # To take input from the user\n",
        "\n",
        "print (removeVowel(my_str))"
      ]
    },
    {
      "cell_type": "markdown",
      "metadata": {
        "id": "Ee5QY6VgosYt"
      },
      "source": [
        "### 9. **Write a program to define a function that takes two numbers as arguments and returns the sum of all numbers between the arguments passed (exclusive, i.e. excluding the limits)**\n",
        "\n",
        "* You can define a range of your choice\n",
        "* Define the function\n",
        "* Use a for loop to add numbers within the range(exclusive)"
      ]
    },
    {
      "cell_type": "code",
      "execution_count": null,
      "metadata": {
        "id": "ioWUWDegosYt"
      },
      "outputs": [],
      "source": [
        "# COMPLETE THE CELL BELOW\n",
        "\n",
        "def sum(a, b): # Complete the function using a for loop and use range() to iterate over the numbers\n",
        "    total_sum = 0\n",
        "    for value in range(a + 1, b):\n",
        "        total_sum += value\n",
        "    return total_sum\n",
        "\n",
        "a = 5\n",
        "b = 10\n",
        "\n",
        "total = sum(a, b)\n",
        "print (\"Result is\", total)"
      ]
    },
    {
      "cell_type": "markdown",
      "metadata": {
        "id": "LuYlUU5yosYu"
      },
      "source": [
        "### 10. Define a class named Triangle that can calculate the area\n",
        "\n",
        "* The class can be constructed by the length of the sides\n",
        "* The class has a method which can compute the area using the formula area = √(s(s-a)(s-b)(s-c)) where s=(a+b+c)/2 is the semi-perimeter"
      ]
    },
    {
      "cell_type": "code",
      "execution_count": null,
      "metadata": {
        "id": "SNNWf1DsosYu"
      },
      "outputs": [],
      "source": [
        "# COMPLETE CELL BELOW\n",
        "import random\n",
        "\n",
        "class Triangle:\n",
        "    area = None\n",
        "    metric_options = ('in', 'cm')\n",
        "\n",
        "    def __init__(self, a, b, c, metric=None):\n",
        "        ''' Creates triangle if sides lengths can form a triangle. If the metric is missing\n",
        "        or not recognized, a random known metric is assigned.\n",
        "        '''\n",
        "        if not self.valid_triangle(a, b, c):\n",
        "            raise ValueError('Side lengths cannot form a triangle.')\n",
        "        else:\n",
        "            self.side1 = a\n",
        "            self.side2 = b\n",
        "            self.side3 = c\n",
        "\n",
        "        if metric is not None and metric in self.metric_options:\n",
        "            self.metric = metric\n",
        "        else :\n",
        "            self.metric = random.sample(self.metric_options, 1)\n",
        "\n",
        "    def valid_triangle(self, side1, side2, side3):\n",
        "        if ((side1 + side2 <= side3) or (side1 + side3 <= side2) or (side2 + side3 <= side1)):\n",
        "            return False\n",
        "        else:\n",
        "            return True\n",
        "\n",
        "    def calculate_area(self):\n",
        "        if self.area is not None and self.area > 0:\n",
        "            return self.area\n",
        "        elif self.side1 and self.side2 and self.side3:\n",
        "            s = (self.side1 + self.side2 + self.side3) / 2 # semi-perimeter\n",
        "            self.area = (s * (s - self.side1) * (s - self.side2) * (s - self.side3)) ** (1/2)\n",
        "            return self.area\n",
        "        else:\n",
        "            return None\n",
        "\n",
        "    def get_area(self):\n",
        "        if self.area is None:\n",
        "            self.area = self.calculate_area()\n",
        "        return self.area, self.metric\n",
        "\n",
        "\n",
        "new_triangle = Triangle(4, 3, 2)\n",
        "area = new_triangle.get_area()\n",
        "\n",
        "print(f'The area of the new triangle is: {area[0]}{area[1][0]}')"
      ]
    }
  ],
  "metadata": {
    "kernelspec": {
      "display_name": "Python 3",
      "language": "python",
      "name": "python3"
    },
    "language_info": {
      "codemirror_mode": {
        "name": "ipython",
        "version": 3
      },
      "file_extension": ".py",
      "mimetype": "text/x-python",
      "name": "python",
      "nbconvert_exporter": "python",
      "pygments_lexer": "ipython3",
      "version": "3.8.3"
    },
    "colab": {
      "provenance": []
    }
  },
  "nbformat": 4,
  "nbformat_minor": 0
}