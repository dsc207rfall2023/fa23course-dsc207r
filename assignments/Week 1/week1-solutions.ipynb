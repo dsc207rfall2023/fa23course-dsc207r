{
 "cells": [
  {
   "cell_type": "markdown",
   "metadata": {
    "id": "hoNse2eKKxzr"
   },
   "source": [
    "# Week 1 Study Notebook\n",
    "\n",
    "# UC San Diego OMDS DSC 207\n",
    "\n",
    "## Check your Python skills while using Jupyter notebooks."
   ]
  },
  {
   "cell_type": "markdown",
   "metadata": {},
   "source": [
    "### Installing Otter-Grader\n",
    "\n",
    "In this course, we will be using Otter-Grader to evaluate your code using predefined test cases. Otter-Grader is a powerful tool that helps you check your work before submitting assignments. To get started with Otter-Grader, you need to install it in your Jupyter Notebook environment.\n",
    "\n",
    "To install Otter-Grader, simply run the below code cell."
   ]
  },
  {
   "cell_type": "code",
   "execution_count": null,
   "metadata": {},
   "outputs": [],
   "source": [
    "# DO NOT MODIFY\n",
    "%pip install otter-grader"
   ]
  },
  {
   "cell_type": "code",
   "execution_count": null,
   "metadata": {},
   "outputs": [],
   "source": [
    "# Initialize Otter\n",
    "import otter\n",
    "grader = otter.Notebook(\"week1.ipynb\")"
   ]
  },
  {
   "cell_type": "markdown",
   "metadata": {},
   "source": [
    "### Loading Python modules"
   ]
  },
  {
   "cell_type": "code",
   "execution_count": null,
   "metadata": {},
   "outputs": [],
   "source": [
    "import pandas as pd\n",
    "import numpy as np\n",
    "\n",
    "# ADD ADDITIONAL PYTHON MODULES BELOW"
   ]
  },
  {
   "cell_type": "markdown",
   "metadata": {
    "deletable": false,
    "editable": false,
    "id": "NFhqf_KQKxzv"
   },
   "source": [
    "### 1.  Write a program to swap a string and an int variable and print their data types to verify the swapping operation\n",
    "\n",
    "* Initialize 2 variables my_int = 5 , and my_float = 1.5\n",
    "* Swap these variables such that my_int now holds the value of my_float and vice versa\n",
    "* Verify this by printing their data types\n",
    "\n",
    "_Points:_ 5"
   ]
  },
  {
   "cell_type": "code",
   "execution_count": null,
   "metadata": {
    "id": "Cjg3iFUKKxzv",
    "tags": []
   },
   "outputs": [],
   "source": [
    "my_int = 5\n",
    "my_str = \"Hi\"\n",
    "my_int, my_str = my_str, my_int\n"
   ]
  },
  {
   "cell_type": "code",
   "execution_count": null,
   "metadata": {
    "deletable": false,
    "editable": false
   },
   "outputs": [],
   "source": [
    "grader.check(\"q1\")"
   ]
  },
  {
   "cell_type": "markdown",
   "metadata": {
    "deletable": false,
    "editable": false
   },
   "source": [
    "### 2. Write a Python Program to Calculate the length of the diagonal of a rectangle\n",
    "\n",
    "* Initialize the 2 sides of the rectangle a and b to 5 and 6\n",
    "* Calculate the length of the diagonal using the formula - diagonal = √(a^2 + b^2)\n",
    "\n",
    "_Points:_ 5"
   ]
  },
  {
   "cell_type": "code",
   "execution_count": null,
   "metadata": {
    "tags": []
   },
   "outputs": [],
   "source": [
    "def calc_diag(a, b):\n",
    "    return (a ** 2 + b ** 2) ** (1/2)"
   ]
  },
  {
   "cell_type": "code",
   "execution_count": null,
   "metadata": {
    "deletable": false,
    "editable": false
   },
   "outputs": [],
   "source": [
    "grader.check(\"q2\")"
   ]
  },
  {
   "cell_type": "markdown",
   "metadata": {
    "deletable": false,
    "editable": false
   },
   "source": [
    "### 3. Write a Python Program to Check if a Number is divisible by 3\n",
    "\n",
    "* Initialize a variable that takes input from user\n",
    "* Check and print if the number is divisible by 3\n",
    "\n",
    "_Points:_ 10"
   ]
  },
  {
   "cell_type": "code",
   "execution_count": null,
   "metadata": {
    "tags": []
   },
   "outputs": [],
   "source": [
    "def is_divisible_by_3(num):\n",
    "    if not isinstance(num, int):\n",
    "        return False\n",
    "\n",
    "    if num % 3 == 0:\n",
    "        return True\n",
    "    else:\n",
    "        return False\n"
   ]
  },
  {
   "cell_type": "code",
   "execution_count": null,
   "metadata": {
    "deletable": false,
    "editable": false
   },
   "outputs": [],
   "source": [
    "grader.check(\"q3\")"
   ]
  },
  {
   "cell_type": "markdown",
   "metadata": {
    "deletable": false,
    "editable": false
   },
   "source": [
    "<!-- BEGIN QUESTION -->\n",
    "\n",
    "### 4. Write a Python Program to Check if a number has exactly 3 digits(no zeros allowed at the beginning and the number can be assumed to be positive)\n",
    "\n",
    "* Initialize a variable that takes input from user(input will be given as a string)\n",
    "* Check and print if the number has exactly 3 digits(no zeros allowed at the beginning)\n",
    "* Read about type casting in python and use type casting from string to int\n",
    "\n",
    "_Points:_ 10"
   ]
  },
  {
   "cell_type": "code",
   "execution_count": null,
   "metadata": {
    "tags": []
   },
   "outputs": [],
   "source": [
    "num = input('Enter number to check digit length: ')\n",
    "num = num.strip()\n",
    "num = num.replace(\".\", \"\", 1).replace(\"-\", \"\", 1)\n",
    "\n",
    "if num.isdigit() and len(num) == 3:\n",
    "    print(\"The number has exactly three digits.\")\n",
    "else:\n",
    "    print(\"The number does not have exactly three digits.\")"
   ]
  },
  {
   "cell_type": "markdown",
   "metadata": {
    "deletable": false,
    "editable": false
   },
   "source": [
    "<!-- END QUESTION -->\n",
    "\n",
    "### 5. Write a Python Program to Check Whether a String is Palindrome or Not\n",
    "\n",
    "* Initialize a string\n",
    "* Lower case it to allow easy comparison\n",
    "* Check using if-else statements if the string is a palindrome\n",
    "* A palindrome is a string which is same read forward or backwards.\n",
    "\n",
    "_Points:_ 10"
   ]
  },
  {
   "cell_type": "code",
   "execution_count": null,
   "metadata": {
    "tags": []
   },
   "outputs": [],
   "source": [
    "def if_palindrome(x):\n",
    "    x = x.lower()\n",
    "    if x == x[::-1]:\n",
    "        return True\n",
    "    else:\n",
    "        return False"
   ]
  },
  {
   "cell_type": "code",
   "execution_count": null,
   "metadata": {
    "deletable": false,
    "editable": false
   },
   "outputs": [],
   "source": [
    "grader.check(\"q5\")"
   ]
  },
  {
   "cell_type": "markdown",
   "metadata": {
    "deletable": false,
    "editable": false
   },
   "source": [
    "### 6.  **Print numbers divisible by 5 between 4 and 30, inclusive**\n",
    "\n",
    "* Iterate through the numbers in the for loop and notice the way range has been used to generate numbers in the for loop\n",
    "* Print only the numbers divisible by 5 using if statement\n",
    "\n",
    "_Points:_ 5"
   ]
  },
  {
   "cell_type": "code",
   "execution_count": null,
   "metadata": {
    "tags": []
   },
   "outputs": [],
   "source": [
    "sol = []\n",
    "limit = range(4, 31)\n",
    "for number in limit:\n",
    "    if number % 5 == 0:\n",
    "        sol.append(number)"
   ]
  },
  {
   "cell_type": "code",
   "execution_count": null,
   "metadata": {
    "deletable": false,
    "editable": false
   },
   "outputs": [],
   "source": [
    "grader.check(\"q6\")"
   ]
  },
  {
   "cell_type": "markdown",
   "metadata": {
    "deletable": false,
    "editable": false
   },
   "source": [
    "### 7. Write a Python Program to print the first n numbers of the Fibonacci series starting from 0\n",
    "\n",
    "* Initialize a variable n that denotes the number of elements of the Fibonacci series to be computed\n",
    "* Use a loop to print the first n numbers of the Fibonacci series: 0,1,1,2,3,....\n",
    "\n",
    "\n",
    "_Points:_ 15"
   ]
  },
  {
   "cell_type": "code",
   "execution_count": null,
   "metadata": {
    "tags": []
   },
   "outputs": [],
   "source": [
    "def fibonacci(n):\n",
    "    sol = []\n",
    "    if n == 0:\n",
    "        return sol\n",
    "\n",
    "    a, b = 0, 1\n",
    "    sol.append(a)\n",
    "\n",
    "    for _ in range(1, n):\n",
    "        a, b = b, a + b\n",
    "        sol.append(a)\n",
    "\n",
    "    return sol"
   ]
  },
  {
   "cell_type": "code",
   "execution_count": null,
   "metadata": {
    "deletable": false,
    "editable": false
   },
   "outputs": [],
   "source": [
    "grader.check(\"q7\")"
   ]
  },
  {
   "cell_type": "markdown",
   "metadata": {
    "deletable": false,
    "editable": false
   },
   "source": [
    "### 8. Write a Python Program that defines a function to Remove Vowels From a String\n",
    "\n",
    "* You can initialize a string of your choice\n",
    "* Define the function\n",
    "* Use a for loop to remove vowels\n",
    "\n",
    "_Points:_ 10"
   ]
  },
  {
   "cell_type": "code",
   "execution_count": null,
   "metadata": {
    "tags": []
   },
   "outputs": [],
   "source": [
    "def remove_vowels(input_str):\n",
    "    vowels = \"AEIOUaeiou\"\n",
    "    result_str = \"\"\n",
    "\n",
    "    for char in input_str:\n",
    "        if char not in vowels:\n",
    "            result_str += char\n",
    "\n",
    "    return result_str"
   ]
  },
  {
   "cell_type": "code",
   "execution_count": null,
   "metadata": {
    "deletable": false,
    "editable": false
   },
   "outputs": [],
   "source": [
    "grader.check(\"q8\")"
   ]
  },
  {
   "cell_type": "markdown",
   "metadata": {
    "deletable": false,
    "editable": false
   },
   "source": [
    "### 9. **Write a program to define a function that takes two numbers as arguments and returns the sum of all numbers between the arguments passed (exclusive, i.e. excluding the limits)**\n",
    "\n",
    "* You can define a range of your choice\n",
    "* Define the function\n",
    "* Use a for loop to add numbers within the range(exclusive)\n",
    "\n",
    "_Points:_ 10"
   ]
  },
  {
   "cell_type": "code",
   "execution_count": null,
   "metadata": {
    "tags": []
   },
   "outputs": [],
   "source": [
    "def sum(a, b):\n",
    "    total_sum = 0\n",
    "    for value in range(a + 1, b):\n",
    "        total_sum += value\n",
    "    return total_sum"
   ]
  },
  {
   "cell_type": "code",
   "execution_count": null,
   "metadata": {
    "deletable": false,
    "editable": false
   },
   "outputs": [],
   "source": [
    "grader.check(\"q9\")"
   ]
  },
  {
   "cell_type": "markdown",
   "metadata": {
    "deletable": false,
    "editable": false
   },
   "source": [
    "<!-- BEGIN QUESTION -->\n",
    "\n",
    "### 10. Define a class named Triangle used to calculate the area\n",
    "\n",
    "* The class can be constructed by the length of the sides\n",
    "* The class must have a method which can compute the area using the formula area = √(s(s-a)(s-b)(s-c)) where s=(a+b+c)/2 is the semi-perimeter\n",
    "* The class must verify if the side lengths can form a triangle\n",
    "\n",
    "_Points:_ 20"
   ]
  },
  {
   "cell_type": "code",
   "execution_count": null,
   "metadata": {
    "tags": []
   },
   "outputs": [],
   "source": [
    "class Triangle:\n",
    "    area = None\n",
    "\n",
    "    def __init__(self, a, b, c):\n",
    "        if not self.valid_triangle(a, b, c):\n",
    "            print('Side lengths cannot form a triangle.')\n",
    "            self.area = 0\n",
    "        else:\n",
    "            self.side1 = a\n",
    "            self.side2 = b\n",
    "            self.side3 = c\n",
    "\n",
    "    def valid_triangle(self, side1, side2, side3):\n",
    "        if ((side1 + side2 <= side3) or (side1 + side3 <= side2) or (side2 + side3 <= side1)):\n",
    "            return False\n",
    "        else:\n",
    "            return True\n",
    "\n",
    "    def calculate_area(self):\n",
    "        if self.area is not None and self.area > 0:\n",
    "            return self.area\n",
    "        elif self.side1 and self.side2 and self.side3:\n",
    "            s = (self.side1 + self.side2 + self.side3) / 2  # semi-perimeter\n",
    "            self.area = (s * (s - self.side1) * (s - self.side2)\n",
    "                         * (s - self.side3)) ** (1/2)\n",
    "            return self.area\n",
    "        else:\n",
    "            return None\n",
    "\n",
    "    def get_area(self):\n",
    "        if self.area is None:\n",
    "            self.area = self.calculate_area()\n",
    "        return self.area\n",
    "\n",
    "\n",
    "triangle1 = Triangle(4, 3, 2)\n",
    "area1 = triangle1.get_area()\n",
    "print(f'The area of triangle1 is: {area1}')\n",
    "\n",
    "triangle2 = Triangle(2, 4, 6)\n",
    "area2 = triangle2.get_area()\n",
    "print(f'The area of the triangle2 is: {area2}')\n",
    "\n",
    "triangle3 = Triangle(7, 9, 12)\n",
    "area3 = triangle3.get_area()\n",
    "print(f'The area of the triangle3 is: {area3}')"
   ]
  },
  {
   "cell_type": "markdown",
   "metadata": {
    "deletable": false,
    "editable": false
   },
   "source": [
    "<!-- END QUESTION -->\n",
    "\n",
    "### Submission\n",
    "\n",
    "Before you submit your notebook, ensure that you've run all the cells sequentially to display images, graphs, and outputs correctly. Take the time to review your solutions and evaluate using the public test cases. Once you're satisfied, save your notebook by navigating to \"File\" in the Jupyter Notebook menu and selecting \"Save\" or using the keyboard shortcut (usually Ctrl + S or Cmd + S).\n",
    "\n",
    "To submit, export your notebook as an .ipynb file. Ensure it's saved with the same name as the assignment. Then, upload this .ipynb file to Gradescope. Remember to submit the correct version.\n",
    "\n",
    "Please save your work before exporting it, and if you encounter any technical issues or have questions about the submission process, reach out to the course staff for assistance"
   ]
  },
  {
   "cell_type": "markdown",
   "metadata": {
    "deletable": false,
    "editable": false
   },
   "source": [
    "---\n",
    "\n",
    "To double-check your work, the cell below will rerun all of the autograder tests."
   ]
  },
  {
   "cell_type": "code",
   "execution_count": null,
   "metadata": {
    "deletable": false,
    "editable": false
   },
   "outputs": [],
   "source": [
    "grader.check_all()"
   ]
  }
 ],
 "metadata": {
  "colab": {
   "provenance": []
  },
  "kernelspec": {
   "display_name": "Python 3",
   "language": "python",
   "name": "python3"
  },
  "language_info": {
   "codemirror_mode": {
    "name": "ipython",
    "version": 3
   },
   "file_extension": ".py",
   "mimetype": "text/x-python",
   "name": "python",
   "nbconvert_exporter": "python",
   "pygments_lexer": "ipython3",
   "version": "3.11.5"
  },
  "otter": {
   "OK_FORMAT": true,
   "tests": {
    "q1": {
     "name": "q1",
     "points": 5,
     "suites": [
      {
       "cases": [
        {
         "code": ">>> assert type(my_int) == str\n",
         "hidden": false,
         "locked": false
        },
        {
         "code": ">>> assert type(my_str) == int\n",
         "hidden": false,
         "locked": false
        },
        {
         "code": ">>> assert my_int == \"Hi\"\n",
         "hidden": false,
         "locked": false
        },
        {
         "code": ">>> assert my_str == 5\n",
         "hidden": false,
         "locked": false
        }
       ],
       "scored": true,
       "setup": "",
       "teardown": "",
       "type": "doctest"
      }
     ]
    },
    "q2": {
     "name": "q2",
     "points": 5,
     "suites": [
      {
       "cases": [
        {
         "code": ">>> assert calc_diag(3, 4) == 5\n",
         "hidden": false,
         "locked": false
        }
       ],
       "scored": true,
       "setup": "",
       "teardown": "",
       "type": "doctest"
      }
     ]
    },
    "q3": {
     "name": "q3",
     "points": 10,
     "suites": [
      {
       "cases": [
        {
         "code": ">>> assert is_divisible_by_3(9) == True\n",
         "hidden": false,
         "locked": false
        },
        {
         "code": ">>> assert is_divisible_by_3(-12) == True\n",
         "hidden": false,
         "locked": false
        }
       ],
       "scored": true,
       "setup": "",
       "teardown": "",
       "type": "doctest"
      }
     ]
    },
    "q5": {
     "name": "q5",
     "points": 10,
     "suites": [
      {
       "cases": [
        {
         "code": ">>> assert if_palindrome(\"racecar\") == True\n",
         "hidden": false,
         "locked": false
        },
        {
         "code": ">>> assert if_palindrome(\"hello\") == False\n",
         "hidden": false,
         "locked": false
        }
       ],
       "scored": true,
       "setup": "",
       "teardown": "",
       "type": "doctest"
      }
     ]
    },
    "q6": {
     "name": "q6",
     "points": 5,
     "suites": [
      {
       "cases": [
        {
         "code": ">>> assert len(sol) == 6\n",
         "hidden": false,
         "locked": false
        },
        {
         "code": ">>> assert sol == [5, 10, 15, 20, 25, 30]\n>>> \n",
         "hidden": false,
         "locked": false
        }
       ],
       "scored": true,
       "setup": "",
       "teardown": "",
       "type": "doctest"
      }
     ]
    },
    "q7": {
     "name": "q7",
     "points": 15,
     "suites": [
      {
       "cases": [
        {
         "code": ">>> assert fibonacci(1) == [0]\n",
         "hidden": false,
         "locked": false
        },
        {
         "code": ">>> assert fibonacci(5) == [0, 1, 1, 2, 3]\n",
         "hidden": false,
         "locked": false
        }
       ],
       "scored": true,
       "setup": "",
       "teardown": "",
       "type": "doctest"
      }
     ]
    },
    "q8": {
     "name": "q8",
     "points": 10,
     "suites": [
      {
       "cases": [
        {
         "code": ">>> assert remove_vowels(\"Hello, World!\") == \"Hll, Wrld!\"\n",
         "hidden": false,
         "locked": false
        },
        {
         "code": ">>> assert remove_vowels(\"Python Programming\") == \"Pythn Prgrmmng\"\n",
         "hidden": false,
         "locked": false
        }
       ],
       "scored": true,
       "setup": "",
       "teardown": "",
       "type": "doctest"
      }
     ]
    },
    "q9": {
     "name": "q9",
     "points": 10,
     "suites": [
      {
       "cases": [
        {
         "code": ">>> assert sum(1, 5) == 9\n>>> \n",
         "hidden": false,
         "locked": false
        },
        {
         "code": ">>> assert sum(-3, 3) == 0\n",
         "hidden": false,
         "locked": false
        }
       ],
       "scored": true,
       "setup": "",
       "teardown": "",
       "type": "doctest"
      }
     ]
    }
   }
  }
 },
 "nbformat": 4,
 "nbformat_minor": 0
}
