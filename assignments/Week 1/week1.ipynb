{
  "cells": [
    {
      "cell_type": "markdown",
      "metadata": {
        "id": "hoNse2eKKxzr"
      },
      "source": [
        "# Week 1 Study Notebook\n",
        "\n",
        "# UC San Diego OMDS DSC 207\n",
        "\n",
        "## Check your Python skills while using Jupyter notebooks."
      ]
    },
    {
      "cell_type": "raw",
      "metadata": {},
      "source": [
        "# ASSIGNMENT CONFIG\n",
        "init_cell: true\n",
        "requirements: requirements.txt\n",
        "solutions_pdf: true\n",
        "check_all_cell: true\n",
        "show_question_points: true\n",
        "export_cell: false\n",
        "generate: \n",
        "    pdf: true\n",
        "    filtering: true\n",
        "    pagebreaks: true\n",
        "    zips: false"
      ]
    },
    {
      "cell_type": "markdown",
      "metadata": {},
      "source": [
        "### Installing Otter-Grader\n",
        "\n",
        "In this course, we will be using Otter-Grader to evaluate your code using predefined test cases. Otter-Grader is a powerful tool that helps you check your work before submitting assignments. To get started with Otter-Grader, you need to install it in your Jupyter Notebook environment.\n",
        "\n",
        "To install Otter-Grader, simply run the below code cell."
      ]
    },
    {
      "cell_type": "code",
      "execution_count": 1,
      "metadata": {},
      "outputs": [
        {
          "name": "stdout",
          "output_type": "stream",
          "text": [
            "Requirement already satisfied: otter-grader in /Users/ananshar/opt/anaconda3/envs/ta_env/lib/python3.11/site-packages (5.1.4)\n",
            "Requirement already satisfied: dill in /Users/ananshar/opt/anaconda3/envs/ta_env/lib/python3.11/site-packages (from otter-grader) (0.3.7)\n",
            "Requirement already satisfied: jinja2 in /Users/ananshar/opt/anaconda3/envs/ta_env/lib/python3.11/site-packages (from otter-grader) (3.1.2)\n",
            "Requirement already satisfied: nbformat in /Users/ananshar/opt/anaconda3/envs/ta_env/lib/python3.11/site-packages (from otter-grader) (5.9.2)\n",
            "Requirement already satisfied: pandas in /Users/ananshar/opt/anaconda3/envs/ta_env/lib/python3.11/site-packages (from otter-grader) (2.1.0)\n",
            "Requirement already satisfied: PyYAML in /Users/ananshar/opt/anaconda3/envs/ta_env/lib/python3.11/site-packages (from otter-grader) (6.0.1)\n",
            "Requirement already satisfied: python-on-whales in /Users/ananshar/opt/anaconda3/envs/ta_env/lib/python3.11/site-packages (from otter-grader) (0.64.3)\n",
            "Requirement already satisfied: requests in /Users/ananshar/opt/anaconda3/envs/ta_env/lib/python3.11/site-packages (from otter-grader) (2.31.0)\n",
            "Requirement already satisfied: wrapt in /Users/ananshar/opt/anaconda3/envs/ta_env/lib/python3.11/site-packages (from otter-grader) (1.15.0)\n",
            "Requirement already satisfied: jupytext in /Users/ananshar/opt/anaconda3/envs/ta_env/lib/python3.11/site-packages (from otter-grader) (1.15.1)\n",
            "Requirement already satisfied: click in /Users/ananshar/opt/anaconda3/envs/ta_env/lib/python3.11/site-packages (from otter-grader) (8.1.7)\n",
            "Requirement already satisfied: fica>=0.2.0 in /Users/ananshar/opt/anaconda3/envs/ta_env/lib/python3.11/site-packages (from otter-grader) (0.3.1)\n",
            "Requirement already satisfied: ipython in /Users/ananshar/opt/anaconda3/envs/ta_env/lib/python3.11/site-packages (from otter-grader) (8.15.0)\n",
            "Requirement already satisfied: astunparse in /Users/ananshar/opt/anaconda3/envs/ta_env/lib/python3.11/site-packages (from otter-grader) (1.6.3)\n",
            "Requirement already satisfied: ipywidgets in /Users/ananshar/opt/anaconda3/envs/ta_env/lib/python3.11/site-packages (from otter-grader) (8.1.0)\n",
            "Requirement already satisfied: ipylab in /Users/ananshar/opt/anaconda3/envs/ta_env/lib/python3.11/site-packages (from otter-grader) (1.0.0)\n",
            "Requirement already satisfied: nbconvert in /Users/ananshar/opt/anaconda3/envs/ta_env/lib/python3.11/site-packages (from otter-grader) (7.8.0)\n",
            "Requirement already satisfied: docutils in /Users/ananshar/opt/anaconda3/envs/ta_env/lib/python3.11/site-packages (from fica>=0.2.0->otter-grader) (0.20.1)\n",
            "Requirement already satisfied: sphinx in /Users/ananshar/opt/anaconda3/envs/ta_env/lib/python3.11/site-packages (from fica>=0.2.0->otter-grader) (7.2.5)\n",
            "Requirement already satisfied: wheel<1.0,>=0.23.0 in /Users/ananshar/opt/anaconda3/envs/ta_env/lib/python3.11/site-packages (from astunparse->otter-grader) (0.38.4)\n",
            "Requirement already satisfied: six<2.0,>=1.6.1 in /Users/ananshar/opt/anaconda3/envs/ta_env/lib/python3.11/site-packages (from astunparse->otter-grader) (1.16.0)\n",
            "Requirement already satisfied: comm>=0.1.3 in /Users/ananshar/opt/anaconda3/envs/ta_env/lib/python3.11/site-packages (from ipywidgets->otter-grader) (0.1.4)\n",
            "Requirement already satisfied: traitlets>=4.3.1 in /Users/ananshar/opt/anaconda3/envs/ta_env/lib/python3.11/site-packages (from ipywidgets->otter-grader) (5.7.1)\n",
            "Requirement already satisfied: widgetsnbextension~=4.0.7 in /Users/ananshar/opt/anaconda3/envs/ta_env/lib/python3.11/site-packages (from ipywidgets->otter-grader) (4.0.8)\n",
            "Requirement already satisfied: jupyterlab-widgets~=3.0.7 in /Users/ananshar/opt/anaconda3/envs/ta_env/lib/python3.11/site-packages (from ipywidgets->otter-grader) (3.0.8)\n",
            "Requirement already satisfied: backcall in /Users/ananshar/opt/anaconda3/envs/ta_env/lib/python3.11/site-packages (from ipython->otter-grader) (0.2.0)\n",
            "Requirement already satisfied: decorator in /Users/ananshar/opt/anaconda3/envs/ta_env/lib/python3.11/site-packages (from ipython->otter-grader) (5.1.1)\n",
            "Requirement already satisfied: jedi>=0.16 in /Users/ananshar/opt/anaconda3/envs/ta_env/lib/python3.11/site-packages (from ipython->otter-grader) (0.18.1)\n",
            "Requirement already satisfied: matplotlib-inline in /Users/ananshar/opt/anaconda3/envs/ta_env/lib/python3.11/site-packages (from ipython->otter-grader) (0.1.6)\n",
            "Requirement already satisfied: pickleshare in /Users/ananshar/opt/anaconda3/envs/ta_env/lib/python3.11/site-packages (from ipython->otter-grader) (0.7.5)\n",
            "Requirement already satisfied: prompt-toolkit!=3.0.37,<3.1.0,>=3.0.30 in /Users/ananshar/opt/anaconda3/envs/ta_env/lib/python3.11/site-packages (from ipython->otter-grader) (3.0.36)\n",
            "Requirement already satisfied: pygments>=2.4.0 in /Users/ananshar/opt/anaconda3/envs/ta_env/lib/python3.11/site-packages (from ipython->otter-grader) (2.15.1)\n",
            "Requirement already satisfied: stack-data in /Users/ananshar/opt/anaconda3/envs/ta_env/lib/python3.11/site-packages (from ipython->otter-grader) (0.2.0)\n",
            "Requirement already satisfied: pexpect>4.3 in /Users/ananshar/opt/anaconda3/envs/ta_env/lib/python3.11/site-packages (from ipython->otter-grader) (4.8.0)\n",
            "Requirement already satisfied: appnope in /Users/ananshar/opt/anaconda3/envs/ta_env/lib/python3.11/site-packages (from ipython->otter-grader) (0.1.3)\n",
            "Requirement already satisfied: MarkupSafe>=2.0 in /Users/ananshar/opt/anaconda3/envs/ta_env/lib/python3.11/site-packages (from jinja2->otter-grader) (2.1.3)\n",
            "Requirement already satisfied: toml in /Users/ananshar/opt/anaconda3/envs/ta_env/lib/python3.11/site-packages (from jupytext->otter-grader) (0.10.2)\n",
            "Requirement already satisfied: markdown-it-py>=1.0.0 in /Users/ananshar/opt/anaconda3/envs/ta_env/lib/python3.11/site-packages (from jupytext->otter-grader) (3.0.0)\n",
            "Requirement already satisfied: mdit-py-plugins in /Users/ananshar/opt/anaconda3/envs/ta_env/lib/python3.11/site-packages (from jupytext->otter-grader) (0.4.0)\n",
            "Requirement already satisfied: beautifulsoup4 in /Users/ananshar/opt/anaconda3/envs/ta_env/lib/python3.11/site-packages (from nbconvert->otter-grader) (4.12.2)\n",
            "Requirement already satisfied: bleach!=5.0.0 in /Users/ananshar/opt/anaconda3/envs/ta_env/lib/python3.11/site-packages (from nbconvert->otter-grader) (6.0.0)\n",
            "Requirement already satisfied: defusedxml in /Users/ananshar/opt/anaconda3/envs/ta_env/lib/python3.11/site-packages (from nbconvert->otter-grader) (0.7.1)\n",
            "Requirement already satisfied: jupyter-core>=4.7 in /Users/ananshar/opt/anaconda3/envs/ta_env/lib/python3.11/site-packages (from nbconvert->otter-grader) (5.3.0)\n",
            "Requirement already satisfied: jupyterlab-pygments in /Users/ananshar/opt/anaconda3/envs/ta_env/lib/python3.11/site-packages (from nbconvert->otter-grader) (0.2.2)\n",
            "Requirement already satisfied: mistune<4,>=2.0.3 in /Users/ananshar/opt/anaconda3/envs/ta_env/lib/python3.11/site-packages (from nbconvert->otter-grader) (3.0.1)\n",
            "Requirement already satisfied: nbclient>=0.5.0 in /Users/ananshar/opt/anaconda3/envs/ta_env/lib/python3.11/site-packages (from nbconvert->otter-grader) (0.8.0)\n",
            "Requirement already satisfied: packaging in /Users/ananshar/opt/anaconda3/envs/ta_env/lib/python3.11/site-packages (from nbconvert->otter-grader) (23.1)\n",
            "Requirement already satisfied: pandocfilters>=1.4.1 in /Users/ananshar/opt/anaconda3/envs/ta_env/lib/python3.11/site-packages (from nbconvert->otter-grader) (1.5.0)\n",
            "Requirement already satisfied: tinycss2 in /Users/ananshar/opt/anaconda3/envs/ta_env/lib/python3.11/site-packages (from nbconvert->otter-grader) (1.2.1)\n",
            "Requirement already satisfied: fastjsonschema in /Users/ananshar/opt/anaconda3/envs/ta_env/lib/python3.11/site-packages (from nbformat->otter-grader) (2.18.0)\n",
            "Requirement already satisfied: jsonschema>=2.6 in /Users/ananshar/opt/anaconda3/envs/ta_env/lib/python3.11/site-packages (from nbformat->otter-grader) (4.19.0)\n",
            "Requirement already satisfied: numpy>=1.23.2 in /Users/ananshar/opt/anaconda3/envs/ta_env/lib/python3.11/site-packages (from pandas->otter-grader) (1.25.2)\n",
            "Requirement already satisfied: python-dateutil>=2.8.2 in /Users/ananshar/opt/anaconda3/envs/ta_env/lib/python3.11/site-packages (from pandas->otter-grader) (2.8.2)\n",
            "Requirement already satisfied: pytz>=2020.1 in /Users/ananshar/opt/anaconda3/envs/ta_env/lib/python3.11/site-packages (from pandas->otter-grader) (2023.3.post1)\n",
            "Requirement already satisfied: tzdata>=2022.1 in /Users/ananshar/opt/anaconda3/envs/ta_env/lib/python3.11/site-packages (from pandas->otter-grader) (2023.3)\n",
            "Requirement already satisfied: pydantic!=2.0.*,<3,>=1.5 in /Users/ananshar/opt/anaconda3/envs/ta_env/lib/python3.11/site-packages (from python-on-whales->otter-grader) (2.3.0)\n",
            "Requirement already satisfied: tqdm in /Users/ananshar/opt/anaconda3/envs/ta_env/lib/python3.11/site-packages (from python-on-whales->otter-grader) (4.66.1)\n",
            "Requirement already satisfied: typer>=0.4.1 in /Users/ananshar/opt/anaconda3/envs/ta_env/lib/python3.11/site-packages (from python-on-whales->otter-grader) (0.9.0)\n",
            "Requirement already satisfied: typing-extensions in /Users/ananshar/opt/anaconda3/envs/ta_env/lib/python3.11/site-packages (from python-on-whales->otter-grader) (4.7.1)\n",
            "Requirement already satisfied: charset-normalizer<4,>=2 in /Users/ananshar/opt/anaconda3/envs/ta_env/lib/python3.11/site-packages (from requests->otter-grader) (3.2.0)\n",
            "Requirement already satisfied: idna<4,>=2.5 in /Users/ananshar/opt/anaconda3/envs/ta_env/lib/python3.11/site-packages (from requests->otter-grader) (3.4)\n",
            "Requirement already satisfied: urllib3<3,>=1.21.1 in /Users/ananshar/opt/anaconda3/envs/ta_env/lib/python3.11/site-packages (from requests->otter-grader) (2.0.4)\n",
            "Requirement already satisfied: certifi>=2017.4.17 in /Users/ananshar/opt/anaconda3/envs/ta_env/lib/python3.11/site-packages (from requests->otter-grader) (2023.7.22)\n",
            "Requirement already satisfied: webencodings in /Users/ananshar/opt/anaconda3/envs/ta_env/lib/python3.11/site-packages (from bleach!=5.0.0->nbconvert->otter-grader) (0.5.1)\n",
            "Requirement already satisfied: parso<0.9.0,>=0.8.0 in /Users/ananshar/opt/anaconda3/envs/ta_env/lib/python3.11/site-packages (from jedi>=0.16->ipython->otter-grader) (0.8.3)\n",
            "Requirement already satisfied: attrs>=22.2.0 in /Users/ananshar/opt/anaconda3/envs/ta_env/lib/python3.11/site-packages (from jsonschema>=2.6->nbformat->otter-grader) (23.1.0)\n",
            "Requirement already satisfied: jsonschema-specifications>=2023.03.6 in /Users/ananshar/opt/anaconda3/envs/ta_env/lib/python3.11/site-packages (from jsonschema>=2.6->nbformat->otter-grader) (2023.7.1)\n",
            "Requirement already satisfied: referencing>=0.28.4 in /Users/ananshar/opt/anaconda3/envs/ta_env/lib/python3.11/site-packages (from jsonschema>=2.6->nbformat->otter-grader) (0.30.2)\n",
            "Requirement already satisfied: rpds-py>=0.7.1 in /Users/ananshar/opt/anaconda3/envs/ta_env/lib/python3.11/site-packages (from jsonschema>=2.6->nbformat->otter-grader) (0.10.2)\n",
            "Requirement already satisfied: platformdirs>=2.5 in /Users/ananshar/opt/anaconda3/envs/ta_env/lib/python3.11/site-packages (from jupyter-core>=4.7->nbconvert->otter-grader) (3.10.0)\n",
            "Requirement already satisfied: mdurl~=0.1 in /Users/ananshar/opt/anaconda3/envs/ta_env/lib/python3.11/site-packages (from markdown-it-py>=1.0.0->jupytext->otter-grader) (0.1.2)\n",
            "Requirement already satisfied: jupyter-client>=6.1.12 in /Users/ananshar/opt/anaconda3/envs/ta_env/lib/python3.11/site-packages (from nbclient>=0.5.0->nbconvert->otter-grader) (8.1.0)\n",
            "Requirement already satisfied: ptyprocess>=0.5 in /Users/ananshar/opt/anaconda3/envs/ta_env/lib/python3.11/site-packages (from pexpect>4.3->ipython->otter-grader) (0.7.0)\n",
            "Requirement already satisfied: wcwidth in /Users/ananshar/opt/anaconda3/envs/ta_env/lib/python3.11/site-packages (from prompt-toolkit!=3.0.37,<3.1.0,>=3.0.30->ipython->otter-grader) (0.2.6)\n",
            "Requirement already satisfied: annotated-types>=0.4.0 in /Users/ananshar/opt/anaconda3/envs/ta_env/lib/python3.11/site-packages (from pydantic!=2.0.*,<3,>=1.5->python-on-whales->otter-grader) (0.5.0)\n",
            "Requirement already satisfied: pydantic-core==2.6.3 in /Users/ananshar/opt/anaconda3/envs/ta_env/lib/python3.11/site-packages (from pydantic!=2.0.*,<3,>=1.5->python-on-whales->otter-grader) (2.6.3)\n",
            "Requirement already satisfied: soupsieve>1.2 in /Users/ananshar/opt/anaconda3/envs/ta_env/lib/python3.11/site-packages (from beautifulsoup4->nbconvert->otter-grader) (2.5)\n",
            "Requirement already satisfied: sphinxcontrib-applehelp in /Users/ananshar/opt/anaconda3/envs/ta_env/lib/python3.11/site-packages (from sphinx->fica>=0.2.0->otter-grader) (1.0.7)\n",
            "Requirement already satisfied: sphinxcontrib-devhelp in /Users/ananshar/opt/anaconda3/envs/ta_env/lib/python3.11/site-packages (from sphinx->fica>=0.2.0->otter-grader) (1.0.5)\n",
            "Requirement already satisfied: sphinxcontrib-jsmath in /Users/ananshar/opt/anaconda3/envs/ta_env/lib/python3.11/site-packages (from sphinx->fica>=0.2.0->otter-grader) (1.0.1)\n",
            "Requirement already satisfied: sphinxcontrib-htmlhelp>=2.0.0 in /Users/ananshar/opt/anaconda3/envs/ta_env/lib/python3.11/site-packages (from sphinx->fica>=0.2.0->otter-grader) (2.0.4)\n",
            "Requirement already satisfied: sphinxcontrib-serializinghtml>=1.1.9 in /Users/ananshar/opt/anaconda3/envs/ta_env/lib/python3.11/site-packages (from sphinx->fica>=0.2.0->otter-grader) (1.1.9)\n",
            "Requirement already satisfied: sphinxcontrib-qthelp in /Users/ananshar/opt/anaconda3/envs/ta_env/lib/python3.11/site-packages (from sphinx->fica>=0.2.0->otter-grader) (1.0.6)\n",
            "Requirement already satisfied: snowballstemmer>=2.0 in /Users/ananshar/opt/anaconda3/envs/ta_env/lib/python3.11/site-packages (from sphinx->fica>=0.2.0->otter-grader) (2.2.0)\n",
            "Requirement already satisfied: babel>=2.9 in /Users/ananshar/opt/anaconda3/envs/ta_env/lib/python3.11/site-packages (from sphinx->fica>=0.2.0->otter-grader) (2.12.1)\n",
            "Requirement already satisfied: alabaster<0.8,>=0.7 in /Users/ananshar/opt/anaconda3/envs/ta_env/lib/python3.11/site-packages (from sphinx->fica>=0.2.0->otter-grader) (0.7.13)\n",
            "Requirement already satisfied: imagesize>=1.3 in /Users/ananshar/opt/anaconda3/envs/ta_env/lib/python3.11/site-packages (from sphinx->fica>=0.2.0->otter-grader) (1.4.1)\n",
            "Requirement already satisfied: executing in /Users/ananshar/opt/anaconda3/envs/ta_env/lib/python3.11/site-packages (from stack-data->ipython->otter-grader) (0.8.3)\n",
            "Requirement already satisfied: asttokens in /Users/ananshar/opt/anaconda3/envs/ta_env/lib/python3.11/site-packages (from stack-data->ipython->otter-grader) (2.4.0)\n",
            "Requirement already satisfied: pure-eval in /Users/ananshar/opt/anaconda3/envs/ta_env/lib/python3.11/site-packages (from stack-data->ipython->otter-grader) (0.2.2)\n",
            "Requirement already satisfied: pyzmq>=23.0 in /Users/ananshar/opt/anaconda3/envs/ta_env/lib/python3.11/site-packages (from jupyter-client>=6.1.12->nbclient>=0.5.0->nbconvert->otter-grader) (25.1.0)\n",
            "Requirement already satisfied: tornado>=6.2 in /Users/ananshar/opt/anaconda3/envs/ta_env/lib/python3.11/site-packages (from jupyter-client>=6.1.12->nbclient>=0.5.0->nbconvert->otter-grader) (6.3.2)\n",
            "Note: you may need to restart the kernel to use updated packages.\n"
          ]
        }
      ],
      "source": [
        "# DO NOT MODIFY\n",
        "%pip install otter-grader"
      ]
    },
    {
      "cell_type": "markdown",
      "metadata": {},
      "source": [
        "### Loading Python modules"
      ]
    },
    {
      "cell_type": "code",
      "execution_count": 2,
      "metadata": {},
      "outputs": [
        {
          "name": "stdout",
          "output_type": "stream",
          "text": [
            "Intel MKL WARNING: Support of Intel(R) Streaming SIMD Extensions 4.2 (Intel(R) SSE4.2) enabled only processors has been deprecated. Intel oneAPI Math Kernel Library 2025.0 will require Intel(R) Advanced Vector Extensions (Intel(R) AVX) instructions.\n",
            "Intel MKL WARNING: Support of Intel(R) Streaming SIMD Extensions 4.2 (Intel(R) SSE4.2) enabled only processors has been deprecated. Intel oneAPI Math Kernel Library 2025.0 will require Intel(R) Advanced Vector Extensions (Intel(R) AVX) instructions.\n"
          ]
        }
      ],
      "source": [
        "import pandas as pd\n",
        "import numpy as np\n",
        "\n",
        "# ADD ADDITIONAL PYTHON MODULES BELOW"
      ]
    },
    {
      "cell_type": "raw",
      "metadata": {},
      "source": [
        "# BEGIN QUESTION\n",
        "name: q1\n",
        "points: 5"
      ]
    },
    {
      "cell_type": "markdown",
      "metadata": {
        "id": "NFhqf_KQKxzv"
      },
      "source": [
        "### 1.  Write a program to swap a string and an int variable and print their data types to verify the swapping operation\n",
        "\n",
        "* Initialize 2 variables my_int = 5 , and my_float = 1.5\n",
        "* Swap these variables such that my_int now holds the value of my_float and vice versa\n",
        "* Verify this by printing their data types"
      ]
    },
    {
      "cell_type": "raw",
      "metadata": {},
      "source": [
        "# BEGIN SOLUTION"
      ]
    },
    {
      "cell_type": "code",
      "execution_count": 3,
      "metadata": {
        "id": "Cjg3iFUKKxzv"
      },
      "outputs": [],
      "source": [
        "# BEGIN SOLUTION NO PROMPT\n",
        "my_int = 5\n",
        "my_str = \"Hi\"\n",
        "my_int, my_str = my_str, my_int \n",
        "# END SOLUTION\n",
        "\n",
        "\"\"\" # BEGIN PROMPT\n",
        "my_int = ...\n",
        "my_str = ...\n",
        "\"\"\"; # END PROMPT"
      ]
    },
    {
      "cell_type": "raw",
      "metadata": {},
      "source": [
        "# END SOLUTION"
      ]
    },
    {
      "cell_type": "raw",
      "metadata": {},
      "source": [
        "# BEGIN TESTS"
      ]
    },
    {
      "cell_type": "code",
      "execution_count": 4,
      "metadata": {},
      "outputs": [],
      "source": [
        "assert type(my_int) == str"
      ]
    },
    {
      "cell_type": "code",
      "execution_count": 5,
      "metadata": {},
      "outputs": [],
      "source": [
        "assert type(my_str) == int"
      ]
    },
    {
      "cell_type": "code",
      "execution_count": 6,
      "metadata": {},
      "outputs": [],
      "source": [
        "assert my_int == \"Hi\""
      ]
    },
    {
      "cell_type": "code",
      "execution_count": 7,
      "metadata": {},
      "outputs": [],
      "source": [
        "assert my_str == 5"
      ]
    },
    {
      "cell_type": "raw",
      "metadata": {},
      "source": [
        "# END TESTS"
      ]
    },
    {
      "cell_type": "raw",
      "metadata": {},
      "source": [
        "# END QUESTION"
      ]
    },
    {
      "cell_type": "raw",
      "metadata": {},
      "source": [
        "# BEGIN QUESTION\n",
        "name: q2\n",
        "points: 5"
      ]
    },
    {
      "cell_type": "markdown",
      "metadata": {},
      "source": [
        "### 2. Write a Python Program to Calculate the length of the diagonal of a rectangle\n",
        "\n",
        "* Initialize the 2 sides of the rectangle a and b to 5 and 6\n",
        "* Calculate the length of the diagonal using the formula - diagonal = √(a^2 + b^2)"
      ]
    },
    {
      "cell_type": "raw",
      "metadata": {},
      "source": [
        "# BEGIN SOLUTION"
      ]
    },
    {
      "cell_type": "code",
      "execution_count": 8,
      "metadata": {},
      "outputs": [],
      "source": [
        "def calc_diag(a, b):\n",
        "    return (a ** 2 + b ** 2) ** (1/2)  # SOLUTION"
      ]
    },
    {
      "cell_type": "raw",
      "metadata": {},
      "source": [
        "# END SOLUTION"
      ]
    },
    {
      "cell_type": "raw",
      "metadata": {},
      "source": [
        "# BEGIN TESTS"
      ]
    },
    {
      "cell_type": "code",
      "execution_count": 9,
      "metadata": {},
      "outputs": [],
      "source": [
        "assert calc_diag(3, 4) == 5"
      ]
    },
    {
      "cell_type": "code",
      "execution_count": 10,
      "metadata": {},
      "outputs": [],
      "source": [
        "# HIDDEN\n",
        "assert calc_diag(5, 12) == 13"
      ]
    },
    {
      "cell_type": "raw",
      "metadata": {},
      "source": [
        "# END TESTS"
      ]
    },
    {
      "cell_type": "raw",
      "metadata": {},
      "source": [
        "# END QUESTION"
      ]
    },
    {
      "cell_type": "raw",
      "metadata": {},
      "source": [
        "# BEGIN QUESTION\n",
        "name: q3\n",
        "points: 10"
      ]
    },
    {
      "cell_type": "markdown",
      "metadata": {},
      "source": [
        "### 3. Write a Python Program to Check if a Number is divisible by 3\n",
        "\n",
        "* Initialize a variable that takes input from user\n",
        "* Check and print if the number is divisible by 3"
      ]
    },
    {
      "cell_type": "raw",
      "metadata": {},
      "source": [
        "# BEGIN SOLUTION"
      ]
    },
    {
      "cell_type": "code",
      "execution_count": 11,
      "metadata": {},
      "outputs": [],
      "source": [
        "def is_divisible_by_3(num):\n",
        "    # BEGIN SOLUTION\n",
        "    if not isinstance(num, int):\n",
        "        return False\n",
        "\n",
        "    if num % 3 == 0:\n",
        "        return True\n",
        "    else:\n",
        "        return False\n",
        "    # END SOLUTION"
      ]
    },
    {
      "cell_type": "raw",
      "metadata": {},
      "source": [
        "# END SOLUTION"
      ]
    },
    {
      "cell_type": "raw",
      "metadata": {},
      "source": [
        "# BEGIN TESTS"
      ]
    },
    {
      "cell_type": "code",
      "execution_count": 12,
      "metadata": {},
      "outputs": [],
      "source": [
        "assert is_divisible_by_3(9) == True"
      ]
    },
    {
      "cell_type": "code",
      "execution_count": 13,
      "metadata": {},
      "outputs": [],
      "source": [
        "assert is_divisible_by_3(-12) == True"
      ]
    },
    {
      "cell_type": "code",
      "execution_count": 14,
      "metadata": {},
      "outputs": [],
      "source": [
        "# HIDDEN\n",
        "assert is_divisible_by_3(7) == False"
      ]
    },
    {
      "cell_type": "code",
      "execution_count": 15,
      "metadata": {},
      "outputs": [],
      "source": [
        "# HIDDEN\n",
        "assert is_divisible_by_3(7.5) == False"
      ]
    },
    {
      "cell_type": "code",
      "execution_count": 16,
      "metadata": {},
      "outputs": [],
      "source": [
        "# HIDDEN\n",
        "assert is_divisible_by_3(\"string\") == False"
      ]
    },
    {
      "cell_type": "raw",
      "metadata": {},
      "source": [
        "# END TESTS"
      ]
    },
    {
      "cell_type": "raw",
      "metadata": {},
      "source": [
        "# END QUESTION"
      ]
    },
    {
      "cell_type": "raw",
      "metadata": {},
      "source": [
        "# BEGIN QUESTION\n",
        "name: q4\n",
        "manual: true\n",
        "points: 10"
      ]
    },
    {
      "cell_type": "markdown",
      "metadata": {},
      "source": [
        "### 4. Write a Python Program to Check if a number has exactly 3 digits(no zeros allowed at the beginning and the number can be assumed to be positive)\n",
        "\n",
        "* Initialize a variable that takes input from user(input will be given as a string)\n",
        "* Check and print if the number has exactly 3 digits(no zeros allowed at the beginning)\n",
        "* Read about type casting in python and use type casting from string to int"
      ]
    },
    {
      "cell_type": "raw",
      "metadata": {},
      "source": [
        "# BEGIN SOLUTION"
      ]
    },
    {
      "cell_type": "code",
      "execution_count": 17,
      "metadata": {},
      "outputs": [
        {
          "name": "stdout",
          "output_type": "stream",
          "text": [
            "The number has exactly three digits.\n"
          ]
        }
      ],
      "source": [
        "# BEGIN SOLUTION NO PROMPT\n",
        "num = input('Enter number to check digit length: ') # Take input from user\n",
        "num = num.strip()\n",
        "num = num.replace(\".\", \"\", 1).replace(\"-\", \"\", 1)\n",
        "\n",
        "if num.isdigit() and len(num) == 3:\n",
        "    print(\"The number has exactly three digits.\")\n",
        "else:\n",
        "    print(\"The number does not have exactly three digits.\")\n",
        "# END SOLUTION\n",
        "\n",
        "\"\"\" # BEGIN PROMPT\n",
        "num = ...\n",
        "\"\"\"; # END PROMPT"
      ]
    },
    {
      "cell_type": "raw",
      "metadata": {},
      "source": [
        "# END SOLUTION"
      ]
    },
    {
      "cell_type": "raw",
      "metadata": {},
      "source": [
        "# END QUESTION"
      ]
    },
    {
      "cell_type": "raw",
      "metadata": {},
      "source": [
        "# BEGIN QUESTION\n",
        "name: q5\n",
        "points: 10"
      ]
    },
    {
      "cell_type": "markdown",
      "metadata": {},
      "source": [
        "### 5. Write a Python Program to Check Whether a String is Palindrome or Not\n",
        "\n",
        "* Initialize a string\n",
        "* Lower case it to allow easy comparison\n",
        "* Check using if-else statements if the string is a palindrome\n",
        "* A palindrome is a string which is same read forward or backwards."
      ]
    },
    {
      "cell_type": "raw",
      "metadata": {},
      "source": [
        "# BEGIN SOLUTION"
      ]
    },
    {
      "cell_type": "code",
      "execution_count": 18,
      "metadata": {},
      "outputs": [],
      "source": [
        "def if_palindrome(x):\n",
        "    # BEGIN SOLUTION\n",
        "    x = x.lower()\n",
        "    if x == x[::-1]:\n",
        "        return True\n",
        "    else:\n",
        "        return False\n",
        "    # END SOLUTION"
      ]
    },
    {
      "cell_type": "raw",
      "metadata": {},
      "source": [
        "# END SOLUTION"
      ]
    },
    {
      "cell_type": "raw",
      "metadata": {},
      "source": [
        "# BEGIN TESTS"
      ]
    },
    {
      "cell_type": "code",
      "execution_count": 19,
      "metadata": {},
      "outputs": [],
      "source": [
        "assert if_palindrome(\"racecar\") == True"
      ]
    },
    {
      "cell_type": "code",
      "execution_count": 20,
      "metadata": {},
      "outputs": [],
      "source": [
        "assert if_palindrome(\"hello\") == False"
      ]
    },
    {
      "cell_type": "code",
      "execution_count": 21,
      "metadata": {},
      "outputs": [],
      "source": [
        "# HIDDEN\n",
        "assert if_palindrome(\"12321\") == True"
      ]
    },
    {
      "cell_type": "code",
      "execution_count": 22,
      "metadata": {},
      "outputs": [],
      "source": [
        "# HIDDEN\n",
        "assert if_palindrome(\"\") == True"
      ]
    },
    {
      "cell_type": "raw",
      "metadata": {},
      "source": [
        "# END TESTS"
      ]
    },
    {
      "cell_type": "raw",
      "metadata": {},
      "source": [
        "# END QUESTION"
      ]
    },
    {
      "cell_type": "raw",
      "metadata": {},
      "source": [
        "# BEGIN QUESTION\n",
        "name: q6\n",
        "points: 5"
      ]
    },
    {
      "cell_type": "markdown",
      "metadata": {},
      "source": [
        "### 6.  **Print numbers divisible by 5 between 4 and 30, inclusive**\n",
        "\n",
        "* Iterate through the numbers in the for loop and notice the way range has been used to generate numbers in the for loop\n",
        "* Print only the numbers divisible by 5 using if statement"
      ]
    },
    {
      "cell_type": "raw",
      "metadata": {},
      "source": [
        "# BEGIN SOLUTION"
      ]
    },
    {
      "cell_type": "code",
      "execution_count": 23,
      "metadata": {},
      "outputs": [],
      "source": [
        "# BEGIN SOLUTION NO PROMPT\n",
        "sol = []\n",
        "limit = range(4,31)\n",
        "for number in limit:\n",
        "    if number % 5 == 0:\n",
        "        sol.append(number)\n",
        "# END SOLUTION\n",
        "\n",
        "\"\"\" # BEGIN PROMPT\n",
        "sol = ...\n",
        "\"\"\"; # END PROMPT"
      ]
    },
    {
      "cell_type": "raw",
      "metadata": {},
      "source": [
        "# END SOLUTION"
      ]
    },
    {
      "cell_type": "raw",
      "metadata": {},
      "source": [
        "# BEGIN TESTS"
      ]
    },
    {
      "cell_type": "code",
      "execution_count": 24,
      "metadata": {},
      "outputs": [],
      "source": [
        "assert len(sol) == 6"
      ]
    },
    {
      "cell_type": "code",
      "execution_count": 25,
      "metadata": {},
      "outputs": [],
      "source": [
        "assert sol == [5, 10, 15, 20, 25, 30]\n"
      ]
    },
    {
      "cell_type": "raw",
      "metadata": {},
      "source": [
        "# END TESTS"
      ]
    },
    {
      "cell_type": "raw",
      "metadata": {},
      "source": [
        "# END QUESTION"
      ]
    },
    {
      "cell_type": "raw",
      "metadata": {},
      "source": [
        "# BEGIN QUESTION\n",
        "name: q7\n",
        "points: 15"
      ]
    },
    {
      "cell_type": "markdown",
      "metadata": {},
      "source": [
        "### 7. Write a Python Program to print the first n numbers of the Fibonacci series starting from 0\n",
        "\n",
        "* Initialize a variable n that denotes the number of elements of the Fibonacci series to be computed\n",
        "* Use a loop to print the first n numbers of the Fibonacci series: 0,1,1,2,3,....\n"
      ]
    },
    {
      "cell_type": "raw",
      "metadata": {},
      "source": [
        "# BEGIN SOLUTION"
      ]
    },
    {
      "cell_type": "code",
      "execution_count": 26,
      "metadata": {},
      "outputs": [],
      "source": [
        "def fibonacci(n):\n",
        "    # BEGIN SOLUTION\n",
        "    sol = []\n",
        "    if n == 0:\n",
        "        return sol\n",
        "\n",
        "    a, b = 0, 1\n",
        "    sol.append(a)\n",
        "\n",
        "    for _ in range(1, n):\n",
        "        a, b = b, a + b\n",
        "        sol.append(a)\n",
        "\n",
        "    return sol\n",
        "    # END SOLUTION\n"
      ]
    },
    {
      "cell_type": "raw",
      "metadata": {},
      "source": [
        "# END SOLUTION"
      ]
    },
    {
      "cell_type": "raw",
      "metadata": {},
      "source": [
        "# BEGIN TESTS"
      ]
    },
    {
      "cell_type": "code",
      "execution_count": 27,
      "metadata": {},
      "outputs": [],
      "source": [
        "assert fibonacci(1) == [0]"
      ]
    },
    {
      "cell_type": "code",
      "execution_count": 28,
      "metadata": {},
      "outputs": [],
      "source": [
        "assert fibonacci(5) == [0, 1, 1, 2, 3]"
      ]
    },
    {
      "cell_type": "code",
      "execution_count": 29,
      "metadata": {},
      "outputs": [],
      "source": [
        "# HIDDEN\n",
        "assert fibonacci(0) == []"
      ]
    },
    {
      "cell_type": "code",
      "execution_count": 30,
      "metadata": {},
      "outputs": [],
      "source": [
        "# HIDDEN\n",
        "assert fibonacci(10) == [0, 1, 1, 2, 3, 5, 8, 13, 21, 34]"
      ]
    },
    {
      "cell_type": "raw",
      "metadata": {},
      "source": [
        "# END TESTS"
      ]
    },
    {
      "cell_type": "raw",
      "metadata": {},
      "source": [
        "# END QUESTION"
      ]
    },
    {
      "cell_type": "raw",
      "metadata": {},
      "source": [
        "# BEGIN QUESTION\n",
        "name: q8\n",
        "points: 10"
      ]
    },
    {
      "cell_type": "markdown",
      "metadata": {},
      "source": [
        "### 8. Write a Python Program that defines a function to Remove Vowels From a String\n",
        "\n",
        "* You can initialize a string of your choice\n",
        "* Define the function\n",
        "* Use a for loop to remove vowels"
      ]
    },
    {
      "cell_type": "raw",
      "metadata": {},
      "source": [
        "# BEGIN SOLUTION"
      ]
    },
    {
      "cell_type": "code",
      "execution_count": 31,
      "metadata": {},
      "outputs": [],
      "source": [
        "def remove_vowels(input_str):\n",
        "    # BEGIN SOLUTION\n",
        "    vowels = \"AEIOUaeiou\"\n",
        "    result_str = \"\"\n",
        "    \n",
        "    for char in input_str:\n",
        "        if char not in vowels:\n",
        "            result_str += char\n",
        "    \n",
        "    return result_str\n",
        "    # END SOLUTION\n"
      ]
    },
    {
      "cell_type": "raw",
      "metadata": {},
      "source": [
        "# END SOLUTION"
      ]
    },
    {
      "cell_type": "raw",
      "metadata": {},
      "source": [
        "# BEGIN TESTS"
      ]
    },
    {
      "cell_type": "code",
      "execution_count": 32,
      "metadata": {},
      "outputs": [],
      "source": [
        "assert remove_vowels(\"Hello, World!\") == \"Hll, Wrld!\""
      ]
    },
    {
      "cell_type": "code",
      "execution_count": 33,
      "metadata": {},
      "outputs": [],
      "source": [
        "assert remove_vowels(\"Python Programming\") == \"Pythn Prgrmmng\""
      ]
    },
    {
      "cell_type": "code",
      "execution_count": 34,
      "metadata": {},
      "outputs": [],
      "source": [
        "# HIDDEN\n",
        "assert remove_vowels(\"AEIOUaeiou\") == \"\""
      ]
    },
    {
      "cell_type": "code",
      "execution_count": 35,
      "metadata": {},
      "outputs": [],
      "source": [
        "# HIDDEN\n",
        "assert remove_vowels(\"\") == \"\""
      ]
    },
    {
      "cell_type": "code",
      "execution_count": 36,
      "metadata": {},
      "outputs": [],
      "source": [
        "# HIDDEN\n",
        "assert remove_vowels(\"12345\") == \"12345\""
      ]
    },
    {
      "cell_type": "raw",
      "metadata": {},
      "source": [
        "# END TESTS"
      ]
    },
    {
      "cell_type": "raw",
      "metadata": {},
      "source": [
        "# END QUESTION"
      ]
    },
    {
      "cell_type": "raw",
      "metadata": {},
      "source": [
        "# BEGIN QUESTION\n",
        "name: q9\n",
        "points: 10"
      ]
    },
    {
      "cell_type": "markdown",
      "metadata": {},
      "source": [
        "### 9. **Write a program to define a function that takes two numbers as arguments and returns the sum of all numbers between the arguments passed (exclusive, i.e. excluding the limits)**\n",
        "\n",
        "* You can define a range of your choice\n",
        "* Define the function\n",
        "* Use a for loop to add numbers within the range(exclusive)"
      ]
    },
    {
      "cell_type": "raw",
      "metadata": {},
      "source": [
        "# BEGIN SOLUTION"
      ]
    },
    {
      "cell_type": "code",
      "execution_count": 37,
      "metadata": {},
      "outputs": [],
      "source": [
        "def sum(a, b):\n",
        "    # BEGIN SOLUTION\n",
        "    total_sum = 0\n",
        "    for value in range(a + 1, b):\n",
        "        total_sum += value\n",
        "    return total_sum\n",
        "    # END SOLUTION"
      ]
    },
    {
      "cell_type": "raw",
      "metadata": {},
      "source": [
        "# END SOLUTION"
      ]
    },
    {
      "cell_type": "raw",
      "metadata": {},
      "source": [
        "# BEGIN TESTS"
      ]
    },
    {
      "cell_type": "code",
      "execution_count": 38,
      "metadata": {},
      "outputs": [],
      "source": [
        "assert sum(1, 5) == 9\n"
      ]
    },
    {
      "cell_type": "code",
      "execution_count": 39,
      "metadata": {},
      "outputs": [],
      "source": [
        "assert sum(-3, 3) == 0"
      ]
    },
    {
      "cell_type": "code",
      "execution_count": 40,
      "metadata": {},
      "outputs": [],
      "source": [
        "# HIDDEN\n",
        "assert sum(5, 5) == 0"
      ]
    },
    {
      "cell_type": "code",
      "execution_count": 41,
      "metadata": {},
      "outputs": [],
      "source": [
        "# HIDDEN\n",
        "assert sum(10, 20) == 135"
      ]
    },
    {
      "cell_type": "code",
      "execution_count": 42,
      "metadata": {},
      "outputs": [],
      "source": [
        "# HIDDEN\n",
        "assert sum(-5, 0) == -10"
      ]
    },
    {
      "cell_type": "raw",
      "metadata": {},
      "source": [
        "# END TESTS"
      ]
    },
    {
      "cell_type": "raw",
      "metadata": {},
      "source": [
        "# END QUESTION"
      ]
    },
    {
      "cell_type": "raw",
      "metadata": {},
      "source": [
        "# BEGIN QUESTION\n",
        "name: q10\n",
        "manual: true\n",
        "points: 20"
      ]
    },
    {
      "cell_type": "markdown",
      "metadata": {},
      "source": [
        "### 10. Define a class named Triangle used to calculate the area\n",
        "\n",
        "* The class can be constructed by the length of the sides\n",
        "* The class must have a method which can compute the area using the formula area = √(s(s-a)(s-b)(s-c)) where s=(a+b+c)/2 is the semi-perimeter\n",
        "* The class must verify if the side lengths can form a triangle"
      ]
    },
    {
      "cell_type": "raw",
      "metadata": {},
      "source": [
        "# BEGIN SOLUTION"
      ]
    },
    {
      "cell_type": "code",
      "execution_count": 43,
      "metadata": {},
      "outputs": [],
      "source": [
        "class Triangle:\n",
        "    # BEGIN SOLUTION\n",
        "    area = None\n",
        "\n",
        "    def __init__(self, a, b, c):\n",
        "        if not self.valid_triangle(a, b, c):\n",
        "            print('Side lengths cannot form a triangle.')\n",
        "            self.area = 0\n",
        "        else:\n",
        "            self.side1 = a\n",
        "            self.side2 = b\n",
        "            self.side3 = c\n",
        "\n",
        "    def valid_triangle(self, side1, side2, side3):\n",
        "        if ((side1 + side2 <= side3) or (side1 + side3 <= side2) or (side2 + side3 <= side1)):\n",
        "            return False\n",
        "        else:\n",
        "            return True\n",
        "\n",
        "    def calculate_area(self):\n",
        "        if self.area is not None and self.area > 0:\n",
        "            return self.area\n",
        "        elif self.side1 and self.side2 and self.side3:\n",
        "            s = (self.side1 + self.side2 + self.side3) / 2  # semi-perimeter\n",
        "            self.area = (s * (s - self.side1) * (s - self.side2)\n",
        "                         * (s - self.side3)) ** (1/2)\n",
        "            return self.area\n",
        "        else:\n",
        "            return None\n",
        "\n",
        "    def get_area(self):\n",
        "        if self.area is None:\n",
        "            self.area = self.calculate_area()\n",
        "        return self.area\n",
        "    # END SOLUTION\n",
        "    \n",
        "    \"\"\" # BEGIN PROMPT\n",
        "    def __init__():\n",
        "        ...\n",
        "    \n",
        "    def valid_triangle():\n",
        "        ...\n",
        "\n",
        "    def calculate_area():\n",
        "        ...\n",
        "\n",
        "\n",
        "triangle1 = Triangle(4, 3, 2)\n",
        "area1 = triangle1.get_area()\n",
        "print(f'The area of triangle1 is: {area1}')\n",
        "\n",
        "triangle2 = Triangle(2, 4, 6)\n",
        "area2 = triangle2.get_area()\n",
        "print(f'The area of the triangle2 is: {area2}')\n",
        "\n",
        "triangle3 = Triangle(7, 9, 12)\n",
        "area3 = triangle3.get_area()\n",
        "print(f'The area of the triangle3 is: {area3}')\n",
        "    \"\"\"; # END PROMPT"
      ]
    },
    {
      "cell_type": "raw",
      "metadata": {},
      "source": [
        "# END SOLUTION"
      ]
    },
    {
      "cell_type": "raw",
      "metadata": {},
      "source": [
        "# END QUESTION"
      ]
    },
    {
      "cell_type": "markdown",
      "metadata": {},
      "source": [
        "### Submission\n",
        "\n",
        "Before you submit your notebook, ensure that you've run all the cells sequentially to display images, graphs, and outputs correctly. Take the time to review your solutions and evaluate using the public test cases. Once you're satisfied, save your notebook by navigating to \"File\" in the Jupyter Notebook menu and selecting \"Save\" or using the keyboard shortcut (usually Ctrl + S or Cmd + S).\n",
        "\n",
        "To submit, export your notebook as an .ipynb file. Ensure it's saved with the same name as the assignment. Then, upload this .ipynb file to Gradescope. Remember to submit the correct version.\n",
        "\n",
        "Please save your work before exporting it, and if you encounter any technical issues or have questions about the submission process, reach out to the course staff for assistance"
      ]
    }
  ],
  "metadata": {
    "colab": {
      "provenance": []
    },
    "kernelspec": {
      "display_name": "Python 3",
      "language": "python",
      "name": "python3"
    },
    "language_info": {
      "codemirror_mode": {
        "name": "ipython",
        "version": 3
      },
      "file_extension": ".py",
      "mimetype": "text/x-python",
      "name": "python",
      "nbconvert_exporter": "python",
      "pygments_lexer": "ipython3",
      "version": "3.11.5"
    }
  },
  "nbformat": 4,
  "nbformat_minor": 0
}
