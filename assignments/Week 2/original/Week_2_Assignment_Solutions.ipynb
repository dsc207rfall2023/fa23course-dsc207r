{
  "cells": [
    {
      "cell_type": "markdown",
      "metadata": {
        "id": "so0LIQvvFA5q"
      },
      "source": [
        "## Instructions\n",
        "\n",
        "\n",
        "*   You can complete the assignment in Jupyter/Colab\n",
        "*   If you are using Colab, make a copy of the notebook in your own drive\n",
        "*   To make a submission -\n",
        "  *  Download the source ipynb file\n",
        "  *  Upload to gradescope\n",
        "\n",
        "\n",
        "\n",
        "\n"
      ]
    },
    {
      "cell_type": "markdown",
      "metadata": {
        "id": "uyXJ4Mw_T_Zu"
      },
      "source": [
        "### 0. Import Numpy\n"
      ]
    },
    {
      "cell_type": "code",
      "execution_count": null,
      "metadata": {
        "id": "vMoSe3u-6dAy"
      },
      "outputs": [],
      "source": [
        "import numpy as np"
      ]
    },
    {
      "cell_type": "markdown",
      "metadata": {
        "id": "4wJ3sPyRAwYY"
      },
      "source": [
        "### 1. Random array\n",
        "\n",
        "Generate an integer random numpy array, A, of shape (3,5) with elements from 5 to 26(inclusive). Print the generated random array. (Hint: Look at the documentation of `numpy.random.randint`) [1 pt]"
      ]
    },
    {
      "cell_type": "code",
      "execution_count": null,
      "metadata": {
        "colab": {
          "base_uri": "https://localhost:8080/"
        },
        "id": "q21FOpwULOdS",
        "outputId": "89702daf-b27a-48e0-e9dc-6722aa70157e"
      },
      "outputs": [
        {
          "data": {
            "text/plain": [
              "array([[26,  7, 15, 22, 14],\n",
              "       [ 6, 15,  5, 25, 15],\n",
              "       [21, 18, 21, 22,  9]])"
            ]
          },
          "execution_count": 2,
          "metadata": {},
          "output_type": "execute_result"
        }
      ],
      "source": [
        "#a = np.random.randint(low=5,high=27,size=(3,5))\n",
        "a = np.random.randint(5,27,(3,5))\n",
        "a"
      ]
    },
    {
      "cell_type": "markdown",
      "metadata": {
        "id": "Nl6HpYKmA2cC"
      },
      "source": [
        "### 2. Transpose and inverse of the array `A`\n",
        "\n",
        "1. The transpose of an array is created by using the first row of the array as the first column of the new array, the second row of the array as the second column of the new array, and so on. **Print the transpose of A using numpy.** Note - you should not write your own transpose function for this step. [0.5 pt]\n",
        "\n",
        "For eg. The transpose of\n",
        "\n",
        "    x = array([[26,  9, 24,  7, 15],\n",
        "              [17, 15, 21, 18, 24],\n",
        "              [ 5, 15, 10, 15, 13]])\n",
        "\n",
        "    xT = array([[26, 17,  5],\n",
        "                [ 9, 15, 15],\n",
        "                [24, 21, 10],\n",
        "                [ 7, 18, 15],\n",
        "               [15, 24, 13]])"
      ]
    },
    {
      "cell_type": "code",
      "execution_count": null,
      "metadata": {
        "colab": {
          "base_uri": "https://localhost:8080/"
        },
        "id": "hQzuvPq8MNVP",
        "outputId": "5e5b6b29-aa80-4faf-fac8-3c58aeac8c85"
      },
      "outputs": [
        {
          "data": {
            "text/plain": [
              "array([[26,  6, 21],\n",
              "       [ 7, 15, 18],\n",
              "       [15,  5, 21],\n",
              "       [22, 25, 22],\n",
              "       [14, 15,  9]])"
            ]
          },
          "execution_count": 3,
          "metadata": {},
          "output_type": "execute_result"
        }
      ],
      "source": [
        "np.transpose(a)"
      ]
    },
    {
      "cell_type": "markdown",
      "metadata": {
        "id": "bR1Eh1opKXhB"
      },
      "source": [
        "2. Generate a integer random numpy array B, of shape (2,2) with elements from 5 to 12(inclusive). Print B."
      ]
    },
    {
      "cell_type": "code",
      "execution_count": null,
      "metadata": {
        "colab": {
          "base_uri": "https://localhost:8080/"
        },
        "id": "C5x6pdWEMTDA",
        "outputId": "6b77a957-43dd-45dc-f906-27d00638035c"
      },
      "outputs": [
        {
          "data": {
            "text/plain": [
              "array([[ 7, 10],\n",
              "       [ 6,  8]])"
            ]
          },
          "execution_count": 4,
          "metadata": {},
          "output_type": "execute_result"
        }
      ],
      "source": [
        "b = np.random.randint(5,13,(2,2))\n",
        "b"
      ]
    },
    {
      "cell_type": "markdown",
      "metadata": {
        "id": "RTNFli4DU8NI"
      },
      "source": [
        "Like numbers, matrices do have reciprocals. In case of matrices, this reciprocal is called inverse matrix. If A is a square matrix and B is its inverse, then the product of two matrices is equal to the unit matrix. **Print the inverse of B using numpy.** (Hint: look up documentation for linalg library in numpy) [0.5 pt]\n",
        "\n",
        "For eg.\n",
        "      \n",
        "      Inverse of\n",
        "      x=array([[10,  6],\n",
        "              [ 5,  5]])\n",
        "       \n",
        "      x_inv=array([[ 0.25, -0.3 ],\n",
        "                  [-0.25,  0.5 ]])\n"
      ]
    },
    {
      "cell_type": "code",
      "execution_count": null,
      "metadata": {
        "colab": {
          "base_uri": "https://localhost:8080/"
        },
        "id": "KQa_Z7hJMdhA",
        "outputId": "b38f18a7-8768-4733-e945-fc22d6ee9fdb"
      },
      "outputs": [
        {
          "data": {
            "text/plain": [
              "array([[-2.  ,  2.5 ],\n",
              "       [ 1.5 , -1.75]])"
            ]
          },
          "execution_count": 5,
          "metadata": {},
          "output_type": "execute_result"
        }
      ],
      "source": [
        "np.linalg.inv(b)"
      ]
    },
    {
      "cell_type": "markdown",
      "metadata": {
        "id": "z1K5Bb_YA6BI"
      },
      "source": [
        "### 3. Array slicing\n",
        "1. Slicing in python means taking elements from one given index to another given index. **Print the last 2 columns of array A.** [0.5 pt]\n",
        "\n",
        "For eg. for the above array A - the last 2 columns are\n",
        "\n",
        "    array([[ 7, 15],\n",
        "            [18, 24],\n",
        "            [15, 13]])"
      ]
    },
    {
      "cell_type": "code",
      "execution_count": null,
      "metadata": {
        "colab": {
          "base_uri": "https://localhost:8080/"
        },
        "id": "gdGansp3Mvp4",
        "outputId": "07103f15-b6b4-4d37-a2aa-af1e324e9426"
      },
      "outputs": [
        {
          "data": {
            "text/plain": [
              "array([[22, 14],\n",
              "       [25, 15],\n",
              "       [22,  9]])"
            ]
          },
          "execution_count": 6,
          "metadata": {},
          "output_type": "execute_result"
        }
      ],
      "source": [
        "#a[:,-2:]\n",
        "a[0:3, 3:5]"
      ]
    },
    {
      "cell_type": "markdown",
      "metadata": {
        "id": "M3fhDXVjA-aE"
      },
      "source": [
        "2. Print the 2nd and 3rd rows of array A.  [0.5 pt]\n",
        "\n",
        "For eg. for the above array A, the 2nd and 3rd rows are\n",
        "\n",
        "      array([[17, 15, 21, 18, 24],\n",
        "            [ 5, 15, 10, 15, 13]])"
      ]
    },
    {
      "cell_type": "code",
      "execution_count": null,
      "metadata": {
        "colab": {
          "base_uri": "https://localhost:8080/"
        },
        "id": "RBt_ToI-NYjf",
        "outputId": "5052c606-6490-405a-d267-0cbcefd40fa8"
      },
      "outputs": [
        {
          "data": {
            "text/plain": [
              "array([[ 6, 15,  5, 25, 15],\n",
              "       [21, 18, 21, 22,  9]])"
            ]
          },
          "execution_count": 7,
          "metadata": {},
          "output_type": "execute_result"
        }
      ],
      "source": [
        "# a[1:3,:]\n",
        "a[1:,]"
      ]
    },
    {
      "cell_type": "markdown",
      "metadata": {
        "id": "BWn8ZBo_BDAp"
      },
      "source": [
        "### 4. Broadcasting\n",
        "\n",
        "1. Broadcasting describes how NumPy treats arrays with different shapes during arithmetic operations. Subject to certain constraints, the smaller array is “broadcast” across the larger array so that they have compatible shapes. Below you can see the difference between vector addition for traditional lists and numpy arrays.\n",
        "\n",
        "\n"
      ]
    },
    {
      "cell_type": "code",
      "execution_count": null,
      "metadata": {
        "colab": {
          "base_uri": "https://localhost:8080/",
          "height": 222
        },
        "id": "vFb-w52qZ1bq",
        "outputId": "0cbef6a2-a590-4861-ee3f-81db5bef06b9"
      },
      "outputs": [
        {
          "ename": "NameError",
          "evalue": "ignored",
          "output_type": "error",
          "traceback": [
            "\u001b[0;31m---------------------------------------------------------------------------\u001b[0m",
            "\u001b[0;31mNameError\u001b[0m                                 Traceback (most recent call last)",
            "\u001b[0;32m<ipython-input-8-84bdccab192c>\u001b[0m in \u001b[0;36m<module>\u001b[0;34m\u001b[0m\n\u001b[1;32m      5\u001b[0m \u001b[0;32mfor\u001b[0m \u001b[0mrow\u001b[0m \u001b[0;32min\u001b[0m \u001b[0mrange\u001b[0m\u001b[0;34m(\u001b[0m\u001b[0mlen\u001b[0m\u001b[0;34m(\u001b[0m\u001b[0marr\u001b[0m\u001b[0;34m)\u001b[0m\u001b[0;34m)\u001b[0m\u001b[0;34m:\u001b[0m\u001b[0;34m\u001b[0m\u001b[0;34m\u001b[0m\u001b[0m\n\u001b[1;32m      6\u001b[0m   \u001b[0;32mfor\u001b[0m \u001b[0mcol\u001b[0m \u001b[0;32min\u001b[0m \u001b[0mrange\u001b[0m\u001b[0;34m(\u001b[0m\u001b[0mlen\u001b[0m\u001b[0;34m(\u001b[0m\u001b[0marr\u001b[0m\u001b[0;34m[\u001b[0m\u001b[0;36m0\u001b[0m\u001b[0;34m]\u001b[0m\u001b[0;34m)\u001b[0m\u001b[0;34m)\u001b[0m\u001b[0;34m:\u001b[0m\u001b[0;34m\u001b[0m\u001b[0;34m\u001b[0m\u001b[0m\n\u001b[0;32m----> 7\u001b[0;31m     \u001b[0marr\u001b[0m\u001b[0;34m[\u001b[0m\u001b[0mrow\u001b[0m\u001b[0;34m]\u001b[0m\u001b[0;34m[\u001b[0m\u001b[0mcol\u001b[0m\u001b[0;34m]\u001b[0m \u001b[0;34m=\u001b[0m \u001b[0marr\u001b[0m\u001b[0;34m[\u001b[0m\u001b[0mrow\u001b[0m\u001b[0;34m]\u001b[0m\u001b[0;34m[\u001b[0m\u001b[0mcol\u001b[0m\u001b[0;34m]\u001b[0m\u001b[0;34m+\u001b[0m\u001b[0mc\u001b[0m\u001b[0;34m[\u001b[0m\u001b[0mcol\u001b[0m\u001b[0;34m]\u001b[0m\u001b[0;34m\u001b[0m\u001b[0;34m\u001b[0m\u001b[0m\n\u001b[0m\u001b[1;32m      8\u001b[0m \u001b[0marr\u001b[0m\u001b[0;34m\u001b[0m\u001b[0;34m\u001b[0m\u001b[0m\n",
            "\u001b[0;31mNameError\u001b[0m: name 'c' is not defined"
          ]
        }
      ],
      "source": [
        "# If we were not using numpy arrays, we would have to loop through the array -\n",
        "arr= [[27, 11, 27, 11, 20],\n",
        "       [18, 17, 24, 22, 29],\n",
        "       [ 6, 17, 13, 19, 18]]\n",
        "c = [1, 2, 3, 4, 5]\n",
        "for row in range(len(arr)):\n",
        "  for col in range(len(arr[0])):\n",
        "    arr[row][col] = arr[row][col]+c[col]\n",
        "arr"
      ]
    },
    {
      "cell_type": "markdown",
      "metadata": {
        "id": "IIUI0EpjZ42S"
      },
      "source": [
        "\n",
        "**Create a vector `c=[1,2,3,4,5]`. Add this vector to array `a` using numpy broadcasting. Print the result.**  [0.5 pt]\n",
        "\n",
        "For eg. for the array A - the result array would be\n",
        "\n",
        "    array([[27, 11, 27, 11, 20],\n",
        "          [18, 17, 24, 22, 29],\n",
        "          [ 6, 17, 13, 19, 18]])\n",
        "\n"
      ]
    },
    {
      "cell_type": "code",
      "execution_count": null,
      "metadata": {
        "colab": {
          "base_uri": "https://localhost:8080/"
        },
        "id": "l2qynQwLNptk",
        "outputId": "4135458e-a8a7-404b-dc41-19ecd0049d43"
      },
      "outputs": [
        {
          "data": {
            "text/plain": [
              "array([[27,  9, 18, 26, 19],\n",
              "       [ 7, 17,  8, 29, 20],\n",
              "       [22, 20, 24, 26, 14]])"
            ]
          },
          "execution_count": 9,
          "metadata": {},
          "output_type": "execute_result"
        }
      ],
      "source": [
        "c=[1,2,3,4,5]\n",
        "a=a+c\n",
        "a"
      ]
    },
    {
      "cell_type": "markdown",
      "metadata": {
        "id": "F7ovRSJELw8u"
      },
      "source": [
        "2. **(True / False) Is it possible to add vector b to a? Explain why?**  [0.5 pt]"
      ]
    },
    {
      "cell_type": "markdown",
      "metadata": {
        "id": "uEA-faw6ON_3"
      },
      "source": [
        "No, as a is of shape (3,5) and b is of shape(2,2) and hence they are not compatible for broadcasting"
      ]
    },
    {
      "cell_type": "code",
      "execution_count": null,
      "metadata": {
        "id": "HbzwsttTEntT"
      },
      "outputs": [],
      "source": [
        "import numpy as np\n",
        "a=np.array([[27, 11, 27, 11, 20],\n",
        "       [18, 17, 24, 22, 29],\n",
        "       [ 6, 17, 13, 19, 18]])"
      ]
    },
    {
      "cell_type": "markdown",
      "metadata": {
        "id": "BSI_6uRXBGK9"
      },
      "source": [
        "### 5. Reshaping\n",
        "\n",
        "**Create a list `B=[1,2,3]` and add it to all the columns of `a`. Print the resulting array** (Hint: Use reshape and broadcasting)  [1 pt]\n",
        "\n",
        "For eg. for the modified array A, the result would be\n",
        "\n",
        "    array([[28, 12, 28, 12, 21],\n",
        "          [20, 19, 26, 24, 31],\n",
        "          [ 9, 20, 16, 22, 21]])"
      ]
    },
    {
      "cell_type": "code",
      "execution_count": null,
      "metadata": {
        "colab": {
          "base_uri": "https://localhost:8080/"
        },
        "id": "7PHf61u9OXjF",
        "outputId": "d25323ee-e643-40ab-9f04-1e46ca214a24"
      },
      "outputs": [
        {
          "data": {
            "text/plain": [
              "array([[28, 12, 28, 12, 21],\n",
              "       [20, 19, 26, 24, 31],\n",
              "       [ 9, 20, 16, 22, 21]])"
            ]
          },
          "execution_count": 11,
          "metadata": {},
          "output_type": "execute_result"
        }
      ],
      "source": [
        "# Reshape b using np.reshape\n",
        "B=[1,2,3]\n",
        "b_reshape=np.reshape(B,(3,1))\n",
        "a=a+b_reshape\n",
        "a"
      ]
    },
    {
      "cell_type": "markdown",
      "metadata": {
        "id": "h9n4jAfCT86m"
      },
      "source": [
        "### 6. Data analysis using numpy\n",
        "\n",
        "**Normalization: Substract mean from each row of array `a`. Print the result array.**. (Hint: look at numpy's mean method and it's arguments) [2 pt]\n",
        "\n",
        "For eg. for the modified array A, the expected output would be\n",
        "\n",
        "    array([[ 7.8, -8.2,  7.8, -8.2,  0.8],\n",
        "          [-4. , -5. ,  2. ,  0. ,  7. ],\n",
        "          [-8.6,  2.4, -1.6,  4.4,  3.4]])"
      ]
    },
    {
      "cell_type": "code",
      "execution_count": null,
      "metadata": {
        "colab": {
          "base_uri": "https://localhost:8080/"
        },
        "id": "ZThEwtgOPcuW",
        "outputId": "575c3ae0-a702-438f-dbe7-f44f6050f21b"
      },
      "outputs": [
        {
          "data": {
            "text/plain": [
              "array([20.2, 24. , 17.6])"
            ]
          },
          "execution_count": 12,
          "metadata": {},
          "output_type": "execute_result"
        }
      ],
      "source": [
        "mean = np.array([np.mean(row) for row in a])\n",
        "mean"
      ]
    },
    {
      "cell_type": "code",
      "execution_count": null,
      "metadata": {
        "colab": {
          "base_uri": "https://localhost:8080/"
        },
        "id": "qSyWe3Z39WNN",
        "outputId": "15d4902e-cace-4adb-8a35-ae737f518d91"
      },
      "outputs": [
        {
          "data": {
            "text/plain": [
              "20.6"
            ]
          },
          "execution_count": 13,
          "metadata": {},
          "output_type": "execute_result"
        }
      ],
      "source": [
        "np.mean(a)"
      ]
    },
    {
      "cell_type": "code",
      "execution_count": null,
      "metadata": {
        "colab": {
          "base_uri": "https://localhost:8080/"
        },
        "id": "TNZG1AJ_PxxG",
        "outputId": "756fabc6-4cdd-4c77-b243-9ff5a867ff91"
      },
      "outputs": [
        {
          "data": {
            "text/plain": [
              "array([[ 7.8, -8.2,  7.8, -8.2,  0.8],\n",
              "       [-4. , -5. ,  2. ,  0. ,  7. ],\n",
              "       [-8.6,  2.4, -1.6,  4.4,  3.4]])"
            ]
          },
          "execution_count": 14,
          "metadata": {},
          "output_type": "execute_result"
        }
      ],
      "source": [
        "mean=mean.reshape(3,1)\n",
        "sub_mean=a-mean\n",
        "sub_mean"
      ]
    },
    {
      "cell_type": "code",
      "execution_count": null,
      "metadata": {
        "colab": {
          "base_uri": "https://localhost:8080/"
        },
        "id": "djh5BmHETEpn",
        "outputId": "181f8831-fa0b-419f-cdde-070a2e00b0af"
      },
      "outputs": [
        {
          "data": {
            "text/plain": [
              "array([[ 7.8, -8.2,  7.8, -8.2,  0.8],\n",
              "       [-4. , -5. ,  2. ,  0. ,  7. ],\n",
              "       [-8.6,  2.4, -1.6,  4.4,  3.4]])"
            ]
          },
          "execution_count": 15,
          "metadata": {},
          "output_type": "execute_result"
        }
      ],
      "source": [
        "Y = a - a.mean(axis=1, keepdims=True)\n",
        "Y"
      ]
    },
    {
      "cell_type": "markdown",
      "metadata": {
        "id": "ziRQUDSmVJxV"
      },
      "source": [
        "### 7. Data manipulation in numpy arrays.\n",
        "\n",
        "**Swap first and second row of array `a`. Print the result array.** [0.5 pt]\n",
        "\n",
        "For eg. for the modified array `a` the expected output would be\n",
        "\n",
        "    array([[20, 19, 26, 24, 31],\n",
        "          [28, 12, 28, 12, 21],\n",
        "          [ 9, 20, 16, 22, 21]])\n"
      ]
    },
    {
      "cell_type": "code",
      "execution_count": null,
      "metadata": {
        "colab": {
          "base_uri": "https://localhost:8080/"
        },
        "id": "DtmS9ftFSRW0",
        "outputId": "4a124e58-d9d5-4c68-d0c5-2768b824387e"
      },
      "outputs": [
        {
          "name": "stdout",
          "output_type": "stream",
          "text": [
            "[[28 28 12 12 21]\n",
            " [20 26 19 24 31]\n",
            " [ 9 16 20 22 21]]\n"
          ]
        },
        {
          "data": {
            "text/plain": [
              "array([[20, 26, 19, 24, 31],\n",
              "       [28, 28, 12, 12, 21],\n",
              "       [ 9, 16, 20, 22, 21]])"
            ]
          },
          "execution_count": 23,
          "metadata": {},
          "output_type": "execute_result"
        }
      ],
      "source": [
        "print(a)\n",
        "a[[0,1]]=a[[1,0]]\n",
        "a"
      ]
    },
    {
      "cell_type": "markdown",
      "metadata": {
        "id": "N46ndTN7ebmw"
      },
      "source": [
        "**Swap second and third column of array `a`. Print the result array.**  [0.5 pt]\n",
        "\n",
        "For eg. for the modified array `a` the expected output would be\n",
        "   \n",
        "    array([[20, 26, 19, 24, 31],\n",
        "          [28, 28, 12, 12, 21],\n",
        "          [ 9, 16, 20, 22, 21]])"
      ]
    },
    {
      "cell_type": "code",
      "execution_count": null,
      "metadata": {
        "colab": {
          "base_uri": "https://localhost:8080/"
        },
        "id": "a_2hrghidsRl",
        "outputId": "fc5a59b0-4d10-4b1d-9197-090b536227cc"
      },
      "outputs": [
        {
          "data": {
            "text/plain": [
              "array([[28, 12, 28, 12, 21],\n",
              "       [28, 12, 28, 12, 21],\n",
              "       [ 9, 20, 16, 22, 21]])"
            ]
          },
          "execution_count": 30,
          "metadata": {},
          "output_type": "execute_result"
        }
      ],
      "source": [
        "a[:,[1,2]]=a[:,[2,1]]\n",
        "a"
      ]
    },
    {
      "cell_type": "markdown",
      "metadata": {
        "id": "hJ-qg1NqQCk8"
      },
      "source": [
        "### The Power Of Numpy"
      ]
    },
    {
      "cell_type": "code",
      "execution_count": null,
      "metadata": {
        "id": "C6h4z_D7Pl5y"
      },
      "outputs": [],
      "source": [
        "#Run this cell\n",
        "import time"
      ]
    },
    {
      "cell_type": "code",
      "execution_count": null,
      "metadata": {
        "id": "XJGpXcx4dVUG"
      },
      "outputs": [],
      "source": [
        "#Run this cell\n",
        "twoD_list = [[i for i in range(500)] for j in range(500)]"
      ]
    },
    {
      "cell_type": "code",
      "execution_count": null,
      "metadata": {
        "id": "7MIMNrEcJk8A"
      },
      "outputs": [],
      "source": [
        "#Run this cell\n",
        "#This a traditional matrix multiplication using for loops\n",
        "def matrix_multiplication(x, y):\n",
        "    dp = 0\n",
        "    prod=[]\n",
        "    for i in range(len(x)):\n",
        "      row=[]\n",
        "      for j in range(len(x[0])):\n",
        "        mul=0\n",
        "        for k in range(len(x[0])):\n",
        "          mul += (x[i][k]*y[k][j])\n",
        "        row.append(mul)\n",
        "      prod.append(row)\n",
        "\n",
        "    return prod"
      ]
    },
    {
      "cell_type": "code",
      "execution_count": null,
      "metadata": {
        "colab": {
          "base_uri": "https://localhost:8080/",
          "height": 365
        },
        "id": "ZC4QpMOZG6Kh",
        "outputId": "312958a6-3fb6-4bc7-ff27-c08d6518500a"
      },
      "outputs": [
        {
          "ename": "KeyboardInterrupt",
          "evalue": "ignored",
          "output_type": "error",
          "traceback": [
            "\u001b[0;31m---------------------------------------------------------------------------\u001b[0m",
            "\u001b[0;31mKeyboardInterrupt\u001b[0m                         Traceback (most recent call last)",
            "\u001b[0;32m<ipython-input-21-90fb6774d74c>\u001b[0m in \u001b[0;36m<module>\u001b[0;34m\u001b[0m\n\u001b[1;32m      1\u001b[0m \u001b[0;31m#Run this cell. Note the time taken to perform traditional matrix multiplication using lists.\u001b[0m\u001b[0;34m\u001b[0m\u001b[0;34m\u001b[0m\u001b[0;34m\u001b[0m\u001b[0m\n\u001b[1;32m      2\u001b[0m \u001b[0mstart_time\u001b[0m\u001b[0;34m=\u001b[0m\u001b[0mtime\u001b[0m\u001b[0;34m.\u001b[0m\u001b[0mtime\u001b[0m\u001b[0;34m(\u001b[0m\u001b[0;34m)\u001b[0m\u001b[0;34m\u001b[0m\u001b[0;34m\u001b[0m\u001b[0m\n\u001b[0;32m----> 3\u001b[0;31m \u001b[0mdot_product_list\u001b[0m \u001b[0;34m=\u001b[0m \u001b[0mmatrix_multiplication\u001b[0m\u001b[0;34m(\u001b[0m\u001b[0mtwoD_list\u001b[0m\u001b[0;34m,\u001b[0m \u001b[0mtwoD_list\u001b[0m\u001b[0;34m)\u001b[0m\u001b[0;34m\u001b[0m\u001b[0;34m\u001b[0m\u001b[0m\n\u001b[0m\u001b[1;32m      4\u001b[0m \u001b[0mend_time\u001b[0m\u001b[0;34m=\u001b[0m\u001b[0mtime\u001b[0m\u001b[0;34m.\u001b[0m\u001b[0mtime\u001b[0m\u001b[0;34m(\u001b[0m\u001b[0;34m)\u001b[0m\u001b[0;34m\u001b[0m\u001b[0;34m\u001b[0m\u001b[0m\n\u001b[1;32m      5\u001b[0m \u001b[0mprint\u001b[0m\u001b[0;34m(\u001b[0m\u001b[0mend_time\u001b[0m\u001b[0;34m-\u001b[0m\u001b[0mstart_time\u001b[0m\u001b[0;34m)\u001b[0m\u001b[0;34m\u001b[0m\u001b[0;34m\u001b[0m\u001b[0m\n",
            "\u001b[0;32m<ipython-input-20-e2e09492be76>\u001b[0m in \u001b[0;36mmatrix_multiplication\u001b[0;34m(x, y)\u001b[0m\n\u001b[1;32m      9\u001b[0m         \u001b[0mmul\u001b[0m\u001b[0;34m=\u001b[0m\u001b[0;36m0\u001b[0m\u001b[0;34m\u001b[0m\u001b[0;34m\u001b[0m\u001b[0m\n\u001b[1;32m     10\u001b[0m         \u001b[0;32mfor\u001b[0m \u001b[0mk\u001b[0m \u001b[0;32min\u001b[0m \u001b[0mrange\u001b[0m\u001b[0;34m(\u001b[0m\u001b[0mlen\u001b[0m\u001b[0;34m(\u001b[0m\u001b[0mx\u001b[0m\u001b[0;34m[\u001b[0m\u001b[0;36m0\u001b[0m\u001b[0;34m]\u001b[0m\u001b[0;34m)\u001b[0m\u001b[0;34m)\u001b[0m\u001b[0;34m:\u001b[0m\u001b[0;34m\u001b[0m\u001b[0;34m\u001b[0m\u001b[0m\n\u001b[0;32m---> 11\u001b[0;31m           \u001b[0mmul\u001b[0m \u001b[0;34m+=\u001b[0m \u001b[0;34m(\u001b[0m\u001b[0mx\u001b[0m\u001b[0;34m[\u001b[0m\u001b[0mi\u001b[0m\u001b[0;34m]\u001b[0m\u001b[0;34m[\u001b[0m\u001b[0mk\u001b[0m\u001b[0;34m]\u001b[0m\u001b[0;34m*\u001b[0m\u001b[0my\u001b[0m\u001b[0;34m[\u001b[0m\u001b[0mk\u001b[0m\u001b[0;34m]\u001b[0m\u001b[0;34m[\u001b[0m\u001b[0mj\u001b[0m\u001b[0;34m]\u001b[0m\u001b[0;34m)\u001b[0m\u001b[0;34m\u001b[0m\u001b[0;34m\u001b[0m\u001b[0m\n\u001b[0m\u001b[1;32m     12\u001b[0m         \u001b[0mrow\u001b[0m\u001b[0;34m.\u001b[0m\u001b[0mappend\u001b[0m\u001b[0;34m(\u001b[0m\u001b[0mmul\u001b[0m\u001b[0;34m)\u001b[0m\u001b[0;34m\u001b[0m\u001b[0;34m\u001b[0m\u001b[0m\n\u001b[1;32m     13\u001b[0m       \u001b[0mprod\u001b[0m\u001b[0;34m.\u001b[0m\u001b[0mappend\u001b[0m\u001b[0;34m(\u001b[0m\u001b[0mrow\u001b[0m\u001b[0;34m)\u001b[0m\u001b[0;34m\u001b[0m\u001b[0;34m\u001b[0m\u001b[0m\n",
            "\u001b[0;31mKeyboardInterrupt\u001b[0m: "
          ]
        }
      ],
      "source": [
        "#Run this cell. Note the time taken to perform traditional matrix multiplication using lists.\n",
        "start_time=time.time()\n",
        "dot_product_list = matrix_multiplication(twoD_list, twoD_list)\n",
        "end_time=time.time()\n",
        "print(end_time-start_time)"
      ]
    },
    {
      "cell_type": "markdown",
      "metadata": {
        "id": "fOJt4uiBRaCm"
      },
      "source": [
        "**Convert twoD_list to a numpy array `numpy_twoD_array`. Print the numpy array**\n",
        "\n",
        "For eg.\n",
        "\n",
        "    numpy_twoD = array([[  0,   1,   2, ..., 497, 498, 499],\n",
        "                        [  0,   1,   2, ..., 497, 498, 499],\n",
        "                        [  0,   1,   2, ..., 497, 498, 499],\n",
        "                         ...,\n",
        "                        [  0,   1,   2, ..., 497, 498, 499],\n",
        "                        [  0,   1,   2, ..., 497, 498, 499],\n",
        "                        [  0,   1,   2, ..., 497, 498, 499]])"
      ]
    },
    {
      "cell_type": "code",
      "execution_count": null,
      "metadata": {
        "id": "RST2DbgjHL26"
      },
      "outputs": [],
      "source": [
        "#ToDo\n",
        "nump_arr=np.array(twoD_list)\n",
        "nump_arr"
      ]
    },
    {
      "cell_type": "markdown",
      "metadata": {
        "id": "YyCZeJ8VRnRe"
      },
      "source": [
        "**Perform matrix multiplication of the numpy array i.e. numpy_twoD_array * numpy_twoD_array. Record and report the time taken for the operation similar to traditional list multiplication.**  [2 pt]\n",
        "\n"
      ]
    },
    {
      "cell_type": "code",
      "execution_count": null,
      "metadata": {
        "id": "uOKV8C_8HqzJ"
      },
      "outputs": [],
      "source": [
        "start_time=time.time();\n",
        "## Insert dot product of num_arr with itself\n",
        "numpy_dot_product = np.dot(nump_arr,nump_arr)\n",
        "end_time=time.time();\n",
        "print(end_time-start_time)\n",
        "print(numpy_dot_product)"
      ]
    },
    {
      "cell_type": "code",
      "execution_count": null,
      "metadata": {
        "id": "CaYw0LS--AJr"
      },
      "outputs": [],
      "source": [
        "np.multiply(nump_arr, nump_arr)"
      ]
    },
    {
      "cell_type": "code",
      "execution_count": null,
      "metadata": {
        "id": "PG6DDosx-Fl5"
      },
      "outputs": [],
      "source": [
        "nump_arr ** 2"
      ]
    },
    {
      "cell_type": "code",
      "execution_count": null,
      "metadata": {
        "id": "zVE6w_3T-K-T"
      },
      "outputs": [],
      "source": [
        "a"
      ]
    },
    {
      "cell_type": "code",
      "execution_count": null,
      "metadata": {
        "id": "E_sSmrUmDTI-"
      },
      "outputs": [],
      "source": [
        "a[:-1]"
      ]
    },
    {
      "cell_type": "code",
      "execution_count": null,
      "metadata": {
        "id": "SKzPRL8CDUvF"
      },
      "outputs": [],
      "source": []
    }
  ],
  "metadata": {
    "colab": {
      "provenance": []
    },
    "kernelspec": {
      "display_name": "Python 3",
      "name": "python3"
    },
    "language_info": {
      "name": "python"
    }
  },
  "nbformat": 4,
  "nbformat_minor": 0
}
