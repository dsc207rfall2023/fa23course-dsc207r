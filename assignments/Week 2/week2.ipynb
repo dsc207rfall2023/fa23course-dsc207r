{
  "cells": [
    {
      "cell_type": "markdown",
      "metadata": {
        "id": "hoNse2eKKxzr"
      },
      "source": [
        "# Week 2 Study Notebook\n",
        "\n",
        "# UC San Diego OMDS DSC 207"
      ]
    },
    {
      "cell_type": "raw",
      "metadata": {},
      "source": [
        "# ASSIGNMENT CONFIG\n",
        "init_cell: false\n",
        "requirements: requirements.txt\n",
        "solutions_pdf: true\n",
        "check_all_cell: false\n",
        "show_question_points: false\n",
        "export_cell: false\n",
        "generate: \n",
        "    pdf: true\n",
        "    filtering: true\n",
        "    pagebreaks: true\n",
        "    zips: false"
      ]
    },
    {
      "cell_type": "code",
      "execution_count": 2,
      "metadata": {},
      "outputs": [
        {
          "name": "stdout",
          "output_type": "stream",
          "text": [
            "Requirement already satisfied: otter-grader in /Users/ananshar/anaconda3/envs/ta_env/lib/python3.11/site-packages (5.2.2)\n",
            "Requirement already satisfied: dill in /Users/ananshar/anaconda3/envs/ta_env/lib/python3.11/site-packages (from otter-grader) (0.3.7)\n",
            "Requirement already satisfied: jinja2 in /Users/ananshar/anaconda3/envs/ta_env/lib/python3.11/site-packages (from otter-grader) (3.1.2)\n",
            "Requirement already satisfied: nbformat in /Users/ananshar/anaconda3/envs/ta_env/lib/python3.11/site-packages (from otter-grader) (5.9.2)\n",
            "Requirement already satisfied: pandas in /Users/ananshar/anaconda3/envs/ta_env/lib/python3.11/site-packages (from otter-grader) (2.1.1)\n",
            "Requirement already satisfied: PyYAML in /Users/ananshar/anaconda3/envs/ta_env/lib/python3.11/site-packages (from otter-grader) (6.0.1)\n",
            "Requirement already satisfied: python-on-whales in /Users/ananshar/anaconda3/envs/ta_env/lib/python3.11/site-packages (from otter-grader) (0.65.0)\n",
            "Requirement already satisfied: requests in /Users/ananshar/anaconda3/envs/ta_env/lib/python3.11/site-packages (from otter-grader) (2.31.0)\n",
            "Requirement already satisfied: wrapt in /Users/ananshar/anaconda3/envs/ta_env/lib/python3.11/site-packages (from otter-grader) (1.15.0)\n",
            "Requirement already satisfied: jupytext in /Users/ananshar/anaconda3/envs/ta_env/lib/python3.11/site-packages (from otter-grader) (1.15.2)\n",
            "Requirement already satisfied: click in /Users/ananshar/anaconda3/envs/ta_env/lib/python3.11/site-packages (from otter-grader) (8.1.7)\n",
            "Requirement already satisfied: fica>=0.3.0 in /Users/ananshar/anaconda3/envs/ta_env/lib/python3.11/site-packages (from otter-grader) (0.3.1)\n",
            "Requirement already satisfied: ipython in /Users/ananshar/anaconda3/envs/ta_env/lib/python3.11/site-packages (from otter-grader) (8.15.0)\n",
            "Requirement already satisfied: astunparse in /Users/ananshar/anaconda3/envs/ta_env/lib/python3.11/site-packages (from otter-grader) (1.6.3)\n",
            "Requirement already satisfied: ipywidgets in /Users/ananshar/anaconda3/envs/ta_env/lib/python3.11/site-packages (from otter-grader) (8.1.1)\n",
            "Requirement already satisfied: ipylab in /Users/ananshar/anaconda3/envs/ta_env/lib/python3.11/site-packages (from otter-grader) (1.0.0)\n",
            "Requirement already satisfied: nbconvert in /Users/ananshar/anaconda3/envs/ta_env/lib/python3.11/site-packages (from otter-grader) (7.8.0)\n",
            "Requirement already satisfied: docutils in /Users/ananshar/anaconda3/envs/ta_env/lib/python3.11/site-packages (from fica>=0.3.0->otter-grader) (0.20.1)\n",
            "Requirement already satisfied: sphinx in /Users/ananshar/anaconda3/envs/ta_env/lib/python3.11/site-packages (from fica>=0.3.0->otter-grader) (7.2.6)\n",
            "Requirement already satisfied: wheel<1.0,>=0.23.0 in /Users/ananshar/anaconda3/envs/ta_env/lib/python3.11/site-packages (from astunparse->otter-grader) (0.41.2)\n",
            "Requirement already satisfied: six<2.0,>=1.6.1 in /Users/ananshar/anaconda3/envs/ta_env/lib/python3.11/site-packages (from astunparse->otter-grader) (1.16.0)\n",
            "Requirement already satisfied: comm>=0.1.3 in /Users/ananshar/anaconda3/envs/ta_env/lib/python3.11/site-packages (from ipywidgets->otter-grader) (0.1.4)\n",
            "Requirement already satisfied: traitlets>=4.3.1 in /Users/ananshar/anaconda3/envs/ta_env/lib/python3.11/site-packages (from ipywidgets->otter-grader) (5.10.1)\n",
            "Requirement already satisfied: widgetsnbextension~=4.0.9 in /Users/ananshar/anaconda3/envs/ta_env/lib/python3.11/site-packages (from ipywidgets->otter-grader) (4.0.9)\n",
            "Requirement already satisfied: jupyterlab-widgets~=3.0.9 in /Users/ananshar/anaconda3/envs/ta_env/lib/python3.11/site-packages (from ipywidgets->otter-grader) (3.0.9)\n",
            "Requirement already satisfied: backcall in /Users/ananshar/anaconda3/envs/ta_env/lib/python3.11/site-packages (from ipython->otter-grader) (0.2.0)\n",
            "Requirement already satisfied: decorator in /Users/ananshar/anaconda3/envs/ta_env/lib/python3.11/site-packages (from ipython->otter-grader) (5.1.1)\n",
            "Requirement already satisfied: jedi>=0.16 in /Users/ananshar/anaconda3/envs/ta_env/lib/python3.11/site-packages (from ipython->otter-grader) (0.18.1)\n",
            "Requirement already satisfied: matplotlib-inline in /Users/ananshar/anaconda3/envs/ta_env/lib/python3.11/site-packages (from ipython->otter-grader) (0.1.6)\n",
            "Requirement already satisfied: pickleshare in /Users/ananshar/anaconda3/envs/ta_env/lib/python3.11/site-packages (from ipython->otter-grader) (0.7.5)\n",
            "Requirement already satisfied: prompt-toolkit!=3.0.37,<3.1.0,>=3.0.30 in /Users/ananshar/anaconda3/envs/ta_env/lib/python3.11/site-packages (from ipython->otter-grader) (3.0.36)\n",
            "Requirement already satisfied: pygments>=2.4.0 in /Users/ananshar/anaconda3/envs/ta_env/lib/python3.11/site-packages (from ipython->otter-grader) (2.15.1)\n",
            "Requirement already satisfied: stack-data in /Users/ananshar/anaconda3/envs/ta_env/lib/python3.11/site-packages (from ipython->otter-grader) (0.2.0)\n",
            "Requirement already satisfied: pexpect>4.3 in /Users/ananshar/anaconda3/envs/ta_env/lib/python3.11/site-packages (from ipython->otter-grader) (4.8.0)\n",
            "Requirement already satisfied: appnope in /Users/ananshar/anaconda3/envs/ta_env/lib/python3.11/site-packages (from ipython->otter-grader) (0.1.3)\n",
            "Requirement already satisfied: MarkupSafe>=2.0 in /Users/ananshar/anaconda3/envs/ta_env/lib/python3.11/site-packages (from jinja2->otter-grader) (2.1.3)\n",
            "Requirement already satisfied: toml in /Users/ananshar/anaconda3/envs/ta_env/lib/python3.11/site-packages (from jupytext->otter-grader) (0.10.2)\n",
            "Requirement already satisfied: markdown-it-py>=1.0.0 in /Users/ananshar/anaconda3/envs/ta_env/lib/python3.11/site-packages (from jupytext->otter-grader) (3.0.0)\n",
            "Requirement already satisfied: mdit-py-plugins in /Users/ananshar/anaconda3/envs/ta_env/lib/python3.11/site-packages (from jupytext->otter-grader) (0.4.0)\n",
            "Requirement already satisfied: beautifulsoup4 in /Users/ananshar/anaconda3/envs/ta_env/lib/python3.11/site-packages (from nbconvert->otter-grader) (4.12.2)\n",
            "Requirement already satisfied: bleach!=5.0.0 in /Users/ananshar/anaconda3/envs/ta_env/lib/python3.11/site-packages (from nbconvert->otter-grader) (6.0.0)\n",
            "Requirement already satisfied: defusedxml in /Users/ananshar/anaconda3/envs/ta_env/lib/python3.11/site-packages (from nbconvert->otter-grader) (0.7.1)\n",
            "Requirement already satisfied: jupyter-core>=4.7 in /Users/ananshar/anaconda3/envs/ta_env/lib/python3.11/site-packages (from nbconvert->otter-grader) (5.3.2)\n",
            "Requirement already satisfied: jupyterlab-pygments in /Users/ananshar/anaconda3/envs/ta_env/lib/python3.11/site-packages (from nbconvert->otter-grader) (0.2.2)\n",
            "Requirement already satisfied: mistune<4,>=2.0.3 in /Users/ananshar/anaconda3/envs/ta_env/lib/python3.11/site-packages (from nbconvert->otter-grader) (3.0.2)\n",
            "Requirement already satisfied: nbclient>=0.5.0 in /Users/ananshar/anaconda3/envs/ta_env/lib/python3.11/site-packages (from nbconvert->otter-grader) (0.8.0)\n",
            "Requirement already satisfied: packaging in /Users/ananshar/anaconda3/envs/ta_env/lib/python3.11/site-packages (from nbconvert->otter-grader) (23.1)\n",
            "Requirement already satisfied: pandocfilters>=1.4.1 in /Users/ananshar/anaconda3/envs/ta_env/lib/python3.11/site-packages (from nbconvert->otter-grader) (1.5.0)\n",
            "Requirement already satisfied: tinycss2 in /Users/ananshar/anaconda3/envs/ta_env/lib/python3.11/site-packages (from nbconvert->otter-grader) (1.2.1)\n",
            "Requirement already satisfied: fastjsonschema in /Users/ananshar/anaconda3/envs/ta_env/lib/python3.11/site-packages (from nbformat->otter-grader) (2.18.1)\n",
            "Requirement already satisfied: jsonschema>=2.6 in /Users/ananshar/anaconda3/envs/ta_env/lib/python3.11/site-packages (from nbformat->otter-grader) (4.19.1)\n",
            "Requirement already satisfied: numpy>=1.23.2 in /Users/ananshar/anaconda3/envs/ta_env/lib/python3.11/site-packages (from pandas->otter-grader) (1.26.0)\n",
            "Requirement already satisfied: python-dateutil>=2.8.2 in /Users/ananshar/anaconda3/envs/ta_env/lib/python3.11/site-packages (from pandas->otter-grader) (2.8.2)\n",
            "Requirement already satisfied: pytz>=2020.1 in /Users/ananshar/anaconda3/envs/ta_env/lib/python3.11/site-packages (from pandas->otter-grader) (2023.3.post1)\n",
            "Requirement already satisfied: tzdata>=2022.1 in /Users/ananshar/anaconda3/envs/ta_env/lib/python3.11/site-packages (from pandas->otter-grader) (2023.3)\n",
            "Requirement already satisfied: pydantic!=2.0.*,<3,>=1.5 in /Users/ananshar/anaconda3/envs/ta_env/lib/python3.11/site-packages (from python-on-whales->otter-grader) (2.4.2)\n",
            "Requirement already satisfied: tqdm in /Users/ananshar/anaconda3/envs/ta_env/lib/python3.11/site-packages (from python-on-whales->otter-grader) (4.66.1)\n",
            "Requirement already satisfied: typer>=0.4.1 in /Users/ananshar/anaconda3/envs/ta_env/lib/python3.11/site-packages (from python-on-whales->otter-grader) (0.9.0)\n",
            "Requirement already satisfied: typing-extensions in /Users/ananshar/anaconda3/envs/ta_env/lib/python3.11/site-packages (from python-on-whales->otter-grader) (4.8.0)\n",
            "Requirement already satisfied: charset-normalizer<4,>=2 in /Users/ananshar/anaconda3/envs/ta_env/lib/python3.11/site-packages (from requests->otter-grader) (3.3.0)\n",
            "Requirement already satisfied: idna<4,>=2.5 in /Users/ananshar/anaconda3/envs/ta_env/lib/python3.11/site-packages (from requests->otter-grader) (3.4)\n",
            "Requirement already satisfied: urllib3<3,>=1.21.1 in /Users/ananshar/anaconda3/envs/ta_env/lib/python3.11/site-packages (from requests->otter-grader) (2.0.5)\n",
            "Requirement already satisfied: certifi>=2017.4.17 in /Users/ananshar/anaconda3/envs/ta_env/lib/python3.11/site-packages (from requests->otter-grader) (2023.7.22)\n",
            "Requirement already satisfied: webencodings in /Users/ananshar/anaconda3/envs/ta_env/lib/python3.11/site-packages (from bleach!=5.0.0->nbconvert->otter-grader) (0.5.1)\n",
            "Requirement already satisfied: parso<0.9.0,>=0.8.0 in /Users/ananshar/anaconda3/envs/ta_env/lib/python3.11/site-packages (from jedi>=0.16->ipython->otter-grader) (0.8.3)\n",
            "Requirement already satisfied: attrs>=22.2.0 in /Users/ananshar/anaconda3/envs/ta_env/lib/python3.11/site-packages (from jsonschema>=2.6->nbformat->otter-grader) (23.1.0)\n",
            "Requirement already satisfied: jsonschema-specifications>=2023.03.6 in /Users/ananshar/anaconda3/envs/ta_env/lib/python3.11/site-packages (from jsonschema>=2.6->nbformat->otter-grader) (2023.7.1)\n",
            "Requirement already satisfied: referencing>=0.28.4 in /Users/ananshar/anaconda3/envs/ta_env/lib/python3.11/site-packages (from jsonschema>=2.6->nbformat->otter-grader) (0.30.2)\n",
            "Requirement already satisfied: rpds-py>=0.7.1 in /Users/ananshar/anaconda3/envs/ta_env/lib/python3.11/site-packages (from jsonschema>=2.6->nbformat->otter-grader) (0.10.3)\n",
            "Requirement already satisfied: platformdirs>=2.5 in /Users/ananshar/anaconda3/envs/ta_env/lib/python3.11/site-packages (from jupyter-core>=4.7->nbconvert->otter-grader) (3.10.0)\n",
            "Requirement already satisfied: mdurl~=0.1 in /Users/ananshar/anaconda3/envs/ta_env/lib/python3.11/site-packages (from markdown-it-py>=1.0.0->jupytext->otter-grader) (0.1.2)\n",
            "Requirement already satisfied: jupyter-client>=6.1.12 in /Users/ananshar/anaconda3/envs/ta_env/lib/python3.11/site-packages (from nbclient>=0.5.0->nbconvert->otter-grader) (8.1.0)\n",
            "Requirement already satisfied: ptyprocess>=0.5 in /Users/ananshar/anaconda3/envs/ta_env/lib/python3.11/site-packages (from pexpect>4.3->ipython->otter-grader) (0.7.0)\n",
            "Requirement already satisfied: wcwidth in /Users/ananshar/anaconda3/envs/ta_env/lib/python3.11/site-packages (from prompt-toolkit!=3.0.37,<3.1.0,>=3.0.30->ipython->otter-grader) (0.2.5)\n",
            "Requirement already satisfied: annotated-types>=0.4.0 in /Users/ananshar/anaconda3/envs/ta_env/lib/python3.11/site-packages (from pydantic!=2.0.*,<3,>=1.5->python-on-whales->otter-grader) (0.5.0)\n",
            "Requirement already satisfied: pydantic-core==2.10.1 in /Users/ananshar/anaconda3/envs/ta_env/lib/python3.11/site-packages (from pydantic!=2.0.*,<3,>=1.5->python-on-whales->otter-grader) (2.10.1)\n",
            "Requirement already satisfied: soupsieve>1.2 in /Users/ananshar/anaconda3/envs/ta_env/lib/python3.11/site-packages (from beautifulsoup4->nbconvert->otter-grader) (2.5)\n",
            "Requirement already satisfied: sphinxcontrib-applehelp in /Users/ananshar/anaconda3/envs/ta_env/lib/python3.11/site-packages (from sphinx->fica>=0.3.0->otter-grader) (1.0.7)\n",
            "Requirement already satisfied: sphinxcontrib-devhelp in /Users/ananshar/anaconda3/envs/ta_env/lib/python3.11/site-packages (from sphinx->fica>=0.3.0->otter-grader) (1.0.5)\n",
            "Requirement already satisfied: sphinxcontrib-jsmath in /Users/ananshar/anaconda3/envs/ta_env/lib/python3.11/site-packages (from sphinx->fica>=0.3.0->otter-grader) (1.0.1)\n",
            "Requirement already satisfied: sphinxcontrib-htmlhelp>=2.0.0 in /Users/ananshar/anaconda3/envs/ta_env/lib/python3.11/site-packages (from sphinx->fica>=0.3.0->otter-grader) (2.0.4)\n",
            "Requirement already satisfied: sphinxcontrib-serializinghtml>=1.1.9 in /Users/ananshar/anaconda3/envs/ta_env/lib/python3.11/site-packages (from sphinx->fica>=0.3.0->otter-grader) (1.1.9)\n",
            "Requirement already satisfied: sphinxcontrib-qthelp in /Users/ananshar/anaconda3/envs/ta_env/lib/python3.11/site-packages (from sphinx->fica>=0.3.0->otter-grader) (1.0.6)\n",
            "Requirement already satisfied: snowballstemmer>=2.0 in /Users/ananshar/anaconda3/envs/ta_env/lib/python3.11/site-packages (from sphinx->fica>=0.3.0->otter-grader) (2.2.0)\n",
            "Requirement already satisfied: babel>=2.9 in /Users/ananshar/anaconda3/envs/ta_env/lib/python3.11/site-packages (from sphinx->fica>=0.3.0->otter-grader) (2.12.1)\n",
            "Requirement already satisfied: alabaster<0.8,>=0.7 in /Users/ananshar/anaconda3/envs/ta_env/lib/python3.11/site-packages (from sphinx->fica>=0.3.0->otter-grader) (0.7.13)\n",
            "Requirement already satisfied: imagesize>=1.3 in /Users/ananshar/anaconda3/envs/ta_env/lib/python3.11/site-packages (from sphinx->fica>=0.3.0->otter-grader) (1.4.1)\n",
            "Requirement already satisfied: executing in /Users/ananshar/anaconda3/envs/ta_env/lib/python3.11/site-packages (from stack-data->ipython->otter-grader) (0.8.3)\n",
            "Requirement already satisfied: asttokens in /Users/ananshar/anaconda3/envs/ta_env/lib/python3.11/site-packages (from stack-data->ipython->otter-grader) (2.4.0)\n",
            "Requirement already satisfied: pure-eval in /Users/ananshar/anaconda3/envs/ta_env/lib/python3.11/site-packages (from stack-data->ipython->otter-grader) (0.2.2)\n",
            "Requirement already satisfied: pyzmq>=23.0 in /Users/ananshar/anaconda3/envs/ta_env/lib/python3.11/site-packages (from jupyter-client>=6.1.12->nbclient>=0.5.0->nbconvert->otter-grader) (25.1.0)\n",
            "Requirement already satisfied: tornado>=6.2 in /Users/ananshar/anaconda3/envs/ta_env/lib/python3.11/site-packages (from jupyter-client>=6.1.12->nbclient>=0.5.0->nbconvert->otter-grader) (6.3.2)\n",
            "Note: you may need to restart the kernel to use updated packages.\n"
          ]
        }
      ],
      "source": [
        "# DO NOT MODIFY\n",
        "%pip install otter-grader"
      ]
    },
    {
      "cell_type": "code",
      "execution_count": 3,
      "metadata": {},
      "outputs": [],
      "source": [
        "# Initialize Otter\n",
        "import otter\n",
        "grader = otter.Notebook()"
      ]
    },
    {
      "cell_type": "raw",
      "metadata": {},
      "source": [
        "# BEGIN QUESTION\n",
        "name: q1\n",
        "points: 1"
      ]
    },
    {
      "cell_type": "code",
      "execution_count": 4,
      "metadata": {},
      "outputs": [],
      "source": [
        "# LOAD LIBRARIES\n",
        "import numpy as np"
      ]
    },
    {
      "cell_type": "markdown",
      "metadata": {
        "id": "NFhqf_KQKxzv"
      },
      "source": [
        "### 1. Random array\n",
        "\n",
        "Generate an integer random numpy array, `a`, of shape (3,5) with elements from 5 to 26 (inclusive). (Hint: Look at the documentation of `numpy.random.randint`) [1 pt]\n",
        "\n",
        "For eg. \n",
        "\n",
        "    a = array([[26,  9, 24,  7, 15],\n",
        "              [17, 15, 21, 18, 24],\n",
        "              [ 5, 15, 10, 15, 13]])"
      ]
    },
    {
      "cell_type": "raw",
      "metadata": {},
      "source": [
        "# BEGIN SOLUTION"
      ]
    },
    {
      "cell_type": "code",
      "execution_count": 5,
      "metadata": {
        "id": "Cjg3iFUKKxzv"
      },
      "outputs": [],
      "source": [
        "# BEGIN SOLUTION NO PROMPT\n",
        "a = np.random.randint(5,27,(3,5))\n",
        "# END SOLUTION\n",
        "\n",
        "\"\"\" # BEGIN PROMPT\n",
        "a = ...\n",
        "\"\"\"; # END PROMPT"
      ]
    },
    {
      "cell_type": "raw",
      "metadata": {},
      "source": [
        "# END SOLUTION"
      ]
    },
    {
      "cell_type": "code",
      "execution_count": 6,
      "metadata": {},
      "outputs": [],
      "source": [
        "assert a.shape == (3, 5)\n",
        "assert np.max(a) <= 26"
      ]
    },
    {
      "cell_type": "raw",
      "metadata": {},
      "source": [
        "# BEGIN TESTS"
      ]
    },
    {
      "cell_type": "code",
      "execution_count": 7,
      "metadata": {},
      "outputs": [],
      "source": [
        "# HIDDEN\n",
        "assert np.all(a >= 5)"
      ]
    },
    {
      "cell_type": "code",
      "execution_count": 8,
      "metadata": {},
      "outputs": [],
      "source": [
        "# HIDDEN\n",
        "assert np.all(a <= 26)"
      ]
    },
    {
      "cell_type": "raw",
      "metadata": {},
      "source": [
        "# END TESTS"
      ]
    },
    {
      "cell_type": "raw",
      "metadata": {},
      "source": [
        "# END QUESTION"
      ]
    },
    {
      "cell_type": "raw",
      "metadata": {},
      "source": [
        "# BEGIN QUESTION\n",
        "name: q2\n",
        "points: 1"
      ]
    },
    {
      "cell_type": "markdown",
      "metadata": {},
      "source": [
        "### 2. Transpose and inverse of the array `a`\n",
        "\n",
        "1. The transpose of an array is created by using the first row of the array as the first column of the new array, the second row of the array as the second column of the new array, and so on. **Create transpose of array `a` using numpy.** Note - you should not write your own transpose function for this step. [0.5 pt]\n",
        "\n",
        "For eg. The transpose of\n",
        "\n",
        "    a = array([[26,  9, 24,  7, 15],\n",
        "              [17, 15, 21, 18, 24],\n",
        "              [ 5, 15, 10, 15, 13]])\n",
        "\n",
        "    aT = array([[26, 17,  5],\n",
        "                [ 9, 15, 15],\n",
        "                [24, 21, 10],\n",
        "                [ 7, 18, 15],\n",
        "               [15, 24, 13]])\n",
        "\n",
        "2. Like numbers, matrices do have reciprocals. In case of matrices, this reciprocal is called inverse matrix. If A is a square matrix and B is its inverse, then the product of two matrices is equal to the unit matrix. **Create the inverse of B using numpy.** (Hint: look up documentation for linalg library in numpy) [0.5 pt]\n",
        "\n",
        "Initialize an integer numpy array `B`, of shape (2,2) as shown below. \n",
        "      \n",
        "      B=array([[10,  6],\n",
        "              [ 5,  5]])\n",
        "       "
      ]
    },
    {
      "cell_type": "raw",
      "metadata": {},
      "source": [
        "# BEGIN SOLUTION"
      ]
    },
    {
      "cell_type": "code",
      "execution_count": 9,
      "metadata": {},
      "outputs": [],
      "source": [
        "a = np.array([[17, 20, 13, 23, 26],\n",
        "              [21, 12,  9, 15,  6],\n",
        "              [16, 23, 14, 25, 20]])\n",
        "\n",
        "# BEGIN SOLUTION NO PROMPT\n",
        "aT = np.transpose(a)\n",
        "B = np.array([[10, 6],\n",
        "              [5, 5]])\n",
        "B_inv = np.linalg.inv(B)\n",
        "# END SOLUTION\n",
        "\n",
        "\"\"\" # BEGIN PROMPT\n",
        "aT = ...\n",
        "B = ...\n",
        "B_inv = ...\n",
        "\"\"\"; # END PROMPT"
      ]
    },
    {
      "cell_type": "raw",
      "metadata": {},
      "source": [
        "# END SOLUTION"
      ]
    },
    {
      "cell_type": "code",
      "execution_count": 10,
      "metadata": {},
      "outputs": [],
      "source": [
        "assert aT.shape == (5, 3)\n",
        "assert np.min(aT) >= 5\n",
        "assert np.linalg.det(B_inv) != 0"
      ]
    },
    {
      "cell_type": "raw",
      "metadata": {},
      "source": [
        "# BEGIN TESTS"
      ]
    },
    {
      "cell_type": "code",
      "execution_count": 11,
      "metadata": {},
      "outputs": [],
      "source": [
        "# HIDDEN\n",
        "for i in range(5):\n",
        "    for j in range(3):\n",
        "        assert aT[i, j] == a[j, i]"
      ]
    },
    {
      "cell_type": "code",
      "execution_count": 12,
      "metadata": {},
      "outputs": [],
      "source": [
        "# HIDDEN\n",
        "answer = np.array([[ 0.25, -0.3 ],\n",
        "                   [-0.25,  0.5 ]])\n",
        "\n",
        "np.testing.assert_allclose(B_inv, answer)"
      ]
    },
    {
      "cell_type": "raw",
      "metadata": {},
      "source": [
        "# END TESTS"
      ]
    },
    {
      "cell_type": "raw",
      "metadata": {},
      "source": [
        "# END QUESTION"
      ]
    },
    {
      "cell_type": "raw",
      "metadata": {},
      "source": [
        "# BEGIN QUESTION\n",
        "name: q3\n",
        "points: 1"
      ]
    },
    {
      "cell_type": "markdown",
      "metadata": {},
      "source": [
        "### 3. Array slicing\n",
        "1. Slicing in python means taking elements from one given index to another given index. **Retrieve elements from last 2 rows and last 2 columns of array `a` and store the result in `c`** [0.5 pt]\n",
        "\n",
        "For eg. for the above array A - the last 2 columns and last 2 rows are\n",
        "\n",
        "    array([[18, 24],\n",
        "            [15, 13]])\n",
        "\n",
        "2. Retrieve the 2nd and 3rd rows of array `a` from the first question and store the result in `d`.  [0.5 pt]\n",
        "\n",
        "For eg. for the above array A, the 2nd and 3rd rows are\n",
        "\n",
        "      array([[17, 15, 21, 18, 24],\n",
        "            [ 5, 15, 10, 15, 13]])"
      ]
    },
    {
      "cell_type": "raw",
      "metadata": {},
      "source": [
        "# BEGIN SOLUTION"
      ]
    },
    {
      "cell_type": "code",
      "execution_count": 13,
      "metadata": {},
      "outputs": [
        {
          "data": {
            "text/plain": [
              "' # BEGIN PROMPT\\nc = ...\\nd = ...\\n'"
            ]
          },
          "execution_count": 13,
          "metadata": {},
          "output_type": "execute_result"
        }
      ],
      "source": [
        "# BEGIN SOLUTION NO PROMPT\n",
        "c = a[1:, -2:]\n",
        "d = a[1:,]\n",
        "# END SOLUTION\n",
        "\n",
        "\"\"\" # BEGIN PROMPT\n",
        "c = ...\n",
        "d = ...\n",
        "\"\"\"  # END PROMPT"
      ]
    },
    {
      "cell_type": "raw",
      "metadata": {},
      "source": [
        "# END SOLUTION"
      ]
    },
    {
      "cell_type": "code",
      "execution_count": 14,
      "metadata": {},
      "outputs": [],
      "source": [
        "assert c.shape == (2, 2)\n",
        "\n",
        "assert d.shape == (2, 5)"
      ]
    },
    {
      "cell_type": "raw",
      "metadata": {},
      "source": [
        "# BEGIN TESTS"
      ]
    },
    {
      "cell_type": "code",
      "execution_count": 15,
      "metadata": {},
      "outputs": [],
      "source": [
        "# HIDDEN\n",
        "answer1 = np.array([[15,  6],\n",
        "                    [25, 20]])\n",
        "\n",
        "answer2 = np.array([[21, 12,  9, 15,  6],\n",
        "                   [16, 23, 14, 25, 20]])\n",
        "\n",
        "np.testing.assert_equal(d, answer2) and np.testing.assert_equal(c, answer1)"
      ]
    },
    {
      "cell_type": "raw",
      "metadata": {},
      "source": [
        "# END TESTS"
      ]
    },
    {
      "cell_type": "raw",
      "metadata": {},
      "source": [
        "# END QUESTION"
      ]
    },
    {
      "cell_type": "raw",
      "metadata": {},
      "source": [
        "# BEGIN QUESTION\n",
        "name: q4\n",
        "manual: true\n",
        "points: 1"
      ]
    },
    {
      "cell_type": "markdown",
      "metadata": {},
      "source": [
        "### 4. Broadcasting\n",
        "\n",
        "1. Broadcasting describes how NumPy treats arrays with different shapes during arithmetic operations. Subject to certain constraints, the smaller array is “broadcast” across the larger array so that they have compatible shapes. Below you can see the difference between vector addition for traditional lists and numpy arrays.\n",
        "\n",
        "\n"
      ]
    },
    {
      "cell_type": "code",
      "execution_count": 16,
      "metadata": {},
      "outputs": [
        {
          "data": {
            "text/plain": [
              "[[28, 13, 30, 15, 25], [19, 19, 27, 26, 34], [7, 19, 16, 23, 23]]"
            ]
          },
          "execution_count": 16,
          "metadata": {},
          "output_type": "execute_result"
        }
      ],
      "source": [
        "# If we were not using numpy arrays, we would have to loop through the array. Run this cell.\n",
        "arr= [[27, 11, 27, 11, 20],\n",
        "       [18, 17, 24, 22, 29],\n",
        "       [ 6, 17, 13, 19, 18]]\n",
        "c = [1,2,3,4,5]\n",
        "for row in range(len(arr)):\n",
        "  for col in range(len(arr[0])):\n",
        "    arr[row][col] = arr[row][col]+c[col]\n",
        "arr"
      ]
    },
    {
      "cell_type": "markdown",
      "metadata": {},
      "source": [
        "\n",
        "**Create a vector `c=[1,2,3,4,5]`. Add this vector to array `a` using numpy broadcasting. Store the result in `x`.**  [0.5 pt]\n",
        "\n",
        "For eg. for the array A - the result array would be\n",
        "\n",
        "    array([[27, 11, 27, 11, 20],\n",
        "          [18, 17, 24, 22, 29],\n",
        "          [ 6, 17, 13, 19, 18]])\n",
        "\n",
        "2. **(True / False) Is it possible to add array b to a? Explain why?**  [0.5 pt]"
      ]
    },
    {
      "cell_type": "raw",
      "metadata": {},
      "source": [
        "# BEGIN SOLUTION"
      ]
    },
    {
      "cell_type": "code",
      "execution_count": 17,
      "metadata": {},
      "outputs": [
        {
          "data": {
            "text/plain": [
              "' # BEGIN PROMPT\\nc = ...\\nx = ...\\n'"
            ]
          },
          "execution_count": 17,
          "metadata": {},
          "output_type": "execute_result"
        }
      ],
      "source": [
        "# BEGIN SOLUTION NO PROMPT\n",
        "c = [1, 2, 3, 4, 5]\n",
        "x = a + c\n",
        "# END SOLUTION\n",
        "\n",
        "\"\"\" # BEGIN PROMPT\n",
        "c = ...\n",
        "x = ...\n",
        "\"\"\"  # END PROMPT"
      ]
    },
    {
      "cell_type": "raw",
      "metadata": {},
      "source": [
        "# END SOLUTION"
      ]
    },
    {
      "cell_type": "code",
      "execution_count": 18,
      "metadata": {},
      "outputs": [],
      "source": [
        "assert x.shape == (3, 5)\n",
        "\n",
        "assert np.array_equal(x, a) == False"
      ]
    },
    {
      "cell_type": "raw",
      "metadata": {},
      "source": [
        "# END QUESTION"
      ]
    },
    {
      "cell_type": "raw",
      "metadata": {},
      "source": [
        "# BEGIN QUESTION\n",
        "name: q5\n",
        "points: 1"
      ]
    },
    {
      "cell_type": "markdown",
      "metadata": {},
      "source": [
        "### 5. Reshaping\n",
        "\n",
        "**Create a list `B=[1,2,3]` and add it to all the columns of `a`. Store the resulting array in z** (Hint: Use reshape and broadcasting)  [1 pt]\n",
        "\n",
        "For eg. for the modified array A, the result would be\n",
        "\n",
        "    array([[27, 10, 25,  8, 16],\n",
        "          [19, 17, 23, 20, 26],\n",
        "          [ 8, 18, 13, 18, 16]])"
      ]
    },
    {
      "cell_type": "raw",
      "metadata": {},
      "source": [
        "# BEGIN SOLUTION"
      ]
    },
    {
      "cell_type": "code",
      "execution_count": 19,
      "metadata": {},
      "outputs": [
        {
          "data": {
            "text/plain": [
              "' # BEGIN PROMPT\\nB = ...\\nz = ...\\n'"
            ]
          },
          "execution_count": 19,
          "metadata": {},
          "output_type": "execute_result"
        }
      ],
      "source": [
        "# BEGIN SOLUTION NO PROMPT\n",
        "B = [1, 2, 3]\n",
        "B_reshape = np.reshape(B, (3, 1))\n",
        "z = a + B_reshape\n",
        "# END SOLUTION\n",
        "\n",
        "\"\"\" # BEGIN PROMPT\n",
        "B = ...\n",
        "z = ...\n",
        "\"\"\"  # END PROMPT"
      ]
    },
    {
      "cell_type": "raw",
      "metadata": {},
      "source": [
        "# END SOLUTION"
      ]
    },
    {
      "cell_type": "code",
      "execution_count": 20,
      "metadata": {},
      "outputs": [],
      "source": [
        "assert z.shape == (3, 5)\n",
        "\n",
        "assert np.array_equal(z, a) == False"
      ]
    },
    {
      "cell_type": "raw",
      "metadata": {},
      "source": [
        "# BEGIN TESTS"
      ]
    },
    {
      "cell_type": "code",
      "execution_count": 21,
      "metadata": {},
      "outputs": [],
      "source": [
        "# HIDDEN\n",
        "expected_z = np.array([[18, 21, 14, 24, 27],\n",
        "                       [23, 14, 11, 17,  8],\n",
        "                       [19, 26, 17, 28, 23]])\n",
        "\n",
        "np.testing.assert_equal(z, expected_z)"
      ]
    },
    {
      "cell_type": "raw",
      "metadata": {},
      "source": [
        "# END TESTS"
      ]
    },
    {
      "cell_type": "raw",
      "metadata": {},
      "source": [
        "# END QUESTION"
      ]
    },
    {
      "cell_type": "raw",
      "metadata": {},
      "source": [
        "# BEGIN QUESTION\n",
        "name: q6\n",
        "points: 1"
      ]
    },
    {
      "cell_type": "markdown",
      "metadata": {},
      "source": [
        "### 6. Data analysis using numpy\n",
        "\n",
        "**Normalization: Create a new array where each element in `a` is adjusted by subtracting the mean of its corresponding row. Store this new array in a_norm.** (Hint: look at numpy's mean method and it's arguments) [2 pt]\n",
        "\n",
        "For eg. for the modified array A, the expected output would be\n",
        "\n",
        "    array([[ 9.8, -7.2,  7.8, -9.2, -1.2],\n",
        "          [-2. , -4. ,  2. , -1. ,  5. ],\n",
        "          [-6.6,  3.4, -1.6,  3.4,  1.4]])"
      ]
    },
    {
      "cell_type": "raw",
      "metadata": {},
      "source": [
        "# BEGIN SOLUTION"
      ]
    },
    {
      "cell_type": "code",
      "execution_count": 22,
      "metadata": {},
      "outputs": [
        {
          "data": {
            "text/plain": [
              "' # BEGIN PROMPT\\na_norm = ...\\n'"
            ]
          },
          "execution_count": 22,
          "metadata": {},
          "output_type": "execute_result"
        }
      ],
      "source": [
        "# BEGIN SOLUTION NO PROMPT\n",
        "a_norm = a - a.mean(axis=1, keepdims=True)\n",
        "# END SOLUTION\n",
        "\n",
        "\"\"\" # BEGIN PROMPT\n",
        "a_norm = ...\n",
        "\"\"\"  # END PROMPT"
      ]
    },
    {
      "cell_type": "raw",
      "metadata": {},
      "source": [
        "# END SOLUTION"
      ]
    },
    {
      "cell_type": "code",
      "execution_count": 23,
      "metadata": {},
      "outputs": [],
      "source": [
        "assert a_norm.shape == (3, 5)"
      ]
    },
    {
      "cell_type": "raw",
      "metadata": {},
      "source": [
        "# BEGIN TESTS"
      ]
    },
    {
      "cell_type": "code",
      "execution_count": 24,
      "metadata": {},
      "outputs": [],
      "source": [
        "# HIDDEN\n",
        "answer = np.array([[-2.8,  0.2, -6.8,  3.2,  6.2],\n",
        "                   [ 8.4, -0.6, -3.6,  2.4, -6.6],\n",
        "                   [-3.6,  3.4, -5.6,  5.4,  0.4]])\n",
        "\n",
        "np.testing.assert_allclose(answer, a_norm)"
      ]
    },
    {
      "cell_type": "raw",
      "metadata": {},
      "source": [
        "# END TESTS"
      ]
    },
    {
      "cell_type": "raw",
      "metadata": {},
      "source": [
        "# END QUESTION"
      ]
    },
    {
      "cell_type": "raw",
      "metadata": {},
      "source": [
        "# BEGIN QUESTION\n",
        "name: q7\n",
        "points: 1"
      ]
    },
    {
      "cell_type": "markdown",
      "metadata": {},
      "source": [
        "### 7. Data manipulation in numpy arrays.\n",
        "\n",
        "**Swap first and second row of array `a`. Store the new array in X.** [0.5 pt]\n",
        "\n",
        "For eg. for the modified array `a` the expected output would be\n",
        "\n",
        "    array([[17, 15, 21, 18, 24],\n",
        "           [26,  9, 24,  7, 15],\n",
        "           [ 5, 15, 10, 15, 13]])\n",
        "\n",
        "**Swap second and third column of array `X`. Store the new array in `Y`.**  [0.5 pt]\n",
        "\n",
        "For eg. for the modified array `a` the expected output would be\n",
        "   \n",
        "    array([[17, 15, 21, 18, 24],\n",
        "           [ 5, 15, 10, 15, 13],\n",
        "           [26,  9, 24,  7, 15]])"
      ]
    },
    {
      "cell_type": "raw",
      "metadata": {},
      "source": [
        "# BEGIN SOLUTION"
      ]
    },
    {
      "cell_type": "code",
      "execution_count": 25,
      "metadata": {},
      "outputs": [
        {
          "data": {
            "text/plain": [
              "' # BEGIN PROMPT\\nX = ...\\nY = ...\\n'"
            ]
          },
          "execution_count": 25,
          "metadata": {},
          "output_type": "execute_result"
        }
      ],
      "source": [
        "# BEGIN SOLUTION NO PROMPT\n",
        "X = a.copy()\n",
        "X[[0,1]]=X[[1,0]]\n",
        "\n",
        "Y = X.copy()\n",
        "Y[[1,2]]=Y[[2,1]]\n",
        "# END SOLUTION\n",
        "\n",
        "\"\"\" # BEGIN PROMPT\n",
        "X = ...\n",
        "Y = ...\n",
        "\"\"\"  # END PROMPT"
      ]
    },
    {
      "cell_type": "raw",
      "metadata": {},
      "source": [
        "# END SOLUTION"
      ]
    },
    {
      "cell_type": "code",
      "execution_count": 26,
      "metadata": {},
      "outputs": [],
      "source": [
        "assert X.shape == (3, 5)\n",
        "\n",
        "assert Y.shape == (3, 5)"
      ]
    },
    {
      "cell_type": "raw",
      "metadata": {},
      "source": [
        "# BEGIN TESTS"
      ]
    },
    {
      "cell_type": "code",
      "execution_count": 27,
      "metadata": {},
      "outputs": [],
      "source": [
        "# HIDDEN\n",
        "assert np.array_equal(a[0], X[1]) and np.array_equal(a[1], X[0])"
      ]
    },
    {
      "cell_type": "code",
      "execution_count": 28,
      "metadata": {},
      "outputs": [],
      "source": [
        "# HIDDEN\n",
        "assert np.array_equal(X[1], Y[2]) and np.array_equal(X[2], Y[1])"
      ]
    },
    {
      "cell_type": "raw",
      "metadata": {},
      "source": [
        "# END TESTS"
      ]
    },
    {
      "cell_type": "raw",
      "metadata": {},
      "source": [
        "# END QUESTION"
      ]
    },
    {
      "cell_type": "markdown",
      "metadata": {},
      "source": [
        "### The Power Of Numpy"
      ]
    },
    {
      "cell_type": "code",
      "execution_count": 29,
      "metadata": {},
      "outputs": [],
      "source": [
        "#Run this cell\n",
        "import time\n",
        "\n",
        "twoD_list = [[i for i in range(500)] for j in range(500)]\n",
        "\n",
        "# This a traditional matrix multiplication using for loops\n",
        "def matrix_multiplication(x, y):\n",
        "    dp = 0\n",
        "    prod=[]\n",
        "    for i in range(len(x)):\n",
        "      row=[]\n",
        "      for j in range(len(x[0])):\n",
        "        mul=0\n",
        "        for k in range(len(x[0])):\n",
        "          mul += (x[i][k]*y[k][j])\n",
        "        row.append(mul)\n",
        "      prod.append(row)\n",
        "\n",
        "    return prod"
      ]
    },
    {
      "cell_type": "code",
      "execution_count": 30,
      "metadata": {},
      "outputs": [
        {
          "name": "stdout",
          "output_type": "stream",
          "text": [
            "5.337973117828369\n"
          ]
        }
      ],
      "source": [
        "# Run this cell. Note the time taken to perform traditional matrix multiplication using lists.\n",
        "start_time = time.time()\n",
        "dot_product_list = matrix_multiplication(twoD_list, twoD_list)\n",
        "end_time = time.time()\n",
        "print(end_time-start_time)"
      ]
    },
    {
      "cell_type": "raw",
      "metadata": {},
      "source": [
        "# BEGIN QUESTION\n",
        "name: q8\n",
        "points: 2"
      ]
    },
    {
      "cell_type": "markdown",
      "metadata": {},
      "source": [
        "**Convert the `twoD_list` to a numpy array `numpy_twoD_array`. Print the numpy array**\n",
        "\n",
        "For eg.\n",
        "\n",
        "    numpy_twoD = array([[  0,   1,   2, ..., 497, 498, 499],\n",
        "                        [  0,   1,   2, ..., 497, 498, 499],\n",
        "                        [  0,   1,   2, ..., 497, 498, 499],\n",
        "                         ...,\n",
        "                        [  0,   1,   2, ..., 497, 498, 499],\n",
        "                        [  0,   1,   2, ..., 497, 498, 499],\n",
        "                        [  0,   1,   2, ..., 497, 498, 499]])\n",
        "\n",
        "**Perform matrix multiplication of the numpy array i.e. numpy_twoD_array * numpy_twoD_array. Record the result in dot_product_array and report the time taken for the operation similar to traditional list multiplication.**  [2 pt]"
      ]
    },
    {
      "cell_type": "raw",
      "metadata": {},
      "source": [
        "# BEGIN SOLUTION"
      ]
    },
    {
      "cell_type": "code",
      "execution_count": 31,
      "metadata": {},
      "outputs": [
        {
          "name": "stdout",
          "output_type": "stream",
          "text": [
            "0.07144880294799805\n"
          ]
        }
      ],
      "source": [
        "start_time=time.time();\n",
        "\n",
        "dot_product_array = ...\n",
        "\n",
        "# BEGIN SOLUTION NO PROMPT\n",
        "numpy_twoD_array = np.array(twoD_list)\n",
        "dot_product_array = np.matmul(numpy_twoD_array, numpy_twoD_array)\n",
        "# END SOLUTION\n",
        "\n",
        "end_time=time.time();\n",
        "print(end_time-start_time)"
      ]
    },
    {
      "cell_type": "raw",
      "metadata": {},
      "source": [
        "# END SOLUTION"
      ]
    },
    {
      "cell_type": "code",
      "execution_count": 33,
      "metadata": {},
      "outputs": [],
      "source": [
        "assert dot_product_array.shape == (500, 500)"
      ]
    },
    {
      "cell_type": "raw",
      "metadata": {},
      "source": [
        "# BEGIN TESTS"
      ]
    },
    {
      "cell_type": "code",
      "execution_count": 34,
      "metadata": {},
      "outputs": [],
      "source": [
        "# HIDDEN\n",
        "assert np.array_equal(dot_product_array, dot_product_list)"
      ]
    },
    {
      "cell_type": "raw",
      "metadata": {},
      "source": [
        "# END TESTS"
      ]
    },
    {
      "cell_type": "raw",
      "metadata": {},
      "source": [
        "# END QUESTION"
      ]
    },
    {
      "cell_type": "markdown",
      "metadata": {},
      "source": [
        "### Submission\n",
        "\n",
        "Before you submit your notebook, ensure that you've run all the cells sequentially to display images, graphs, and outputs correctly. Take the time to review your solutions and evaluate using the public test cases. Once you're satisfied, save your notebook by navigating to \"File\" in the Jupyter Notebook menu and selecting \"Save\" or using the keyboard shortcut (usually Ctrl + S or Cmd + S).\n",
        "\n",
        "To submit, export your notebook as an .ipynb file. Ensure it's saved with the same name as the assignment. Then, upload this .ipynb file to Gradescope. Remember to submit the correct version.\n",
        "\n",
        "Please save your work before exporting it, and if you encounter any technical issues or have questions about the submission process, reach out to the course staff for assistance"
      ]
    }
  ],
  "metadata": {
    "colab": {
      "provenance": []
    },
    "kernelspec": {
      "display_name": "Python 3",
      "language": "python",
      "name": "python3"
    },
    "language_info": {
      "codemirror_mode": {
        "name": "ipython",
        "version": 3
      },
      "file_extension": ".py",
      "mimetype": "text/x-python",
      "name": "python",
      "nbconvert_exporter": "python",
      "pygments_lexer": "ipython3",
      "version": "3.11.5"
    }
  },
  "nbformat": 4,
  "nbformat_minor": 0
}
