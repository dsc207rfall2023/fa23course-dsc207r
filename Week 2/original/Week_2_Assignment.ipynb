{
  "nbformat": 4,
  "nbformat_minor": 0,
  "metadata": {
    "colab": {
      "provenance": []
    },
    "kernelspec": {
      "name": "python3",
      "display_name": "Python 3"
    },
    "language_info": {
      "name": "python"
    }
  },
  "cells": [
    {
      "cell_type": "markdown",
      "source": [
        "## Instructions\n",
        "\n",
        "\n",
        "*   You can complete the assignment in Jupyter/Colab\n",
        "*   If you are using Colab, make a copy of the notebook in your own drive\n",
        "*   To make a submission -\n",
        "  *  Run cells such that relevant outputs are visible\n",
        "  *  Download the source ipynb file for submission\n",
        "  *  Upload to gradescope\n",
        "\n",
        "\n",
        "\n",
        "\n"
      ],
      "metadata": {
        "id": "so0LIQvvFA5q"
      }
    },
    {
      "cell_type": "markdown",
      "source": [
        "### 0. Import Numpy\n"
      ],
      "metadata": {
        "id": "uyXJ4Mw_T_Zu"
      }
    },
    {
      "cell_type": "code",
      "execution_count": null,
      "metadata": {
        "id": "vMoSe3u-6dAy"
      },
      "outputs": [],
      "source": [
        "#ToDo"
      ]
    },
    {
      "cell_type": "markdown",
      "source": [
        "### 1. Random array\n",
        "\n",
        "Generate an integer random numpy array, A, of shape (3,5) with elements from 5 to 26(inclusive). Print the generated random array. (Hint: Look at the documentation of `numpy.random.randint`) [1 pt]"
      ],
      "metadata": {
        "id": "4wJ3sPyRAwYY"
      }
    },
    {
      "cell_type": "code",
      "source": [
        "#ToDo"
      ],
      "metadata": {
        "id": "q21FOpwULOdS"
      },
      "execution_count": null,
      "outputs": []
    },
    {
      "cell_type": "markdown",
      "source": [
        "### 2. Transpose and inverse of the array `A`\n",
        "\n",
        "1. The transpose of an array is created by using the first row of the array as the first column of the new array, the second row of the array as the second column of the new array, and so on. **Print the transpose of A using numpy.** Note - you should not write your own transpose function for this step. [0.5 pt]\n",
        "\n",
        "For eg. The transpose of\n",
        "\n",
        "    x = array([[26,  9, 24,  7, 15],\n",
        "              [17, 15, 21, 18, 24],\n",
        "              [ 5, 15, 10, 15, 13]])\n",
        "\n",
        "    xT = array([[26, 17,  5],\n",
        "                [ 9, 15, 15],\n",
        "                [24, 21, 10],\n",
        "                [ 7, 18, 15],\n",
        "               [15, 24, 13]])"
      ],
      "metadata": {
        "id": "Nl6HpYKmA2cC"
      }
    },
    {
      "cell_type": "code",
      "source": [
        "#ToDo"
      ],
      "metadata": {
        "id": "hQzuvPq8MNVP"
      },
      "execution_count": null,
      "outputs": []
    },
    {
      "cell_type": "markdown",
      "source": [
        "2. Generate a integer random numpy array B, of shape (2,2) with elements from 5 to 12(inclusive). Print B."
      ],
      "metadata": {
        "id": "bR1Eh1opKXhB"
      }
    },
    {
      "cell_type": "code",
      "source": [
        "#ToDo"
      ],
      "metadata": {
        "id": "C5x6pdWEMTDA"
      },
      "execution_count": null,
      "outputs": []
    },
    {
      "cell_type": "markdown",
      "source": [
        "Like numbers, matrices do have reciprocals. In case of matrices, this reciprocal is called inverse matrix. If A is a square matrix and B is its inverse, then the product of two matrices is equal to the unit matrix. **Print the inverse of B using numpy.** (Hint: look up documentation for linalg library in numpy) [0.5 pt]\n",
        "\n",
        "For eg.\n",
        "      \n",
        "      Inverse of\n",
        "      x=array([[10,  6],\n",
        "              [ 5,  5]])\n",
        "       \n",
        "      x_inv=array([[ 0.25, -0.3 ],\n",
        "                  [-0.25,  0.5 ]])\n"
      ],
      "metadata": {
        "id": "RTNFli4DU8NI"
      }
    },
    {
      "cell_type": "code",
      "source": [
        "#ToDo"
      ],
      "metadata": {
        "id": "KQa_Z7hJMdhA"
      },
      "execution_count": null,
      "outputs": []
    },
    {
      "cell_type": "markdown",
      "source": [
        "### 3. Array slicing\n",
        "1. Slicing in python means taking elements from one given index to another given index. **Print the last 2 columns of array A.** [0.5 pt]\n",
        "\n",
        "For eg. for the above array A - the last 2 columns are\n",
        "\n",
        "    array([[ 7, 15],\n",
        "            [18, 24],\n",
        "            [15, 13]])"
      ],
      "metadata": {
        "id": "z1K5Bb_YA6BI"
      }
    },
    {
      "cell_type": "code",
      "source": [
        "#ToDo"
      ],
      "metadata": {
        "id": "gdGansp3Mvp4"
      },
      "execution_count": null,
      "outputs": []
    },
    {
      "cell_type": "markdown",
      "source": [
        "2. Print the 2nd and 3rd rows of array A.  [0.5 pt]\n",
        "\n",
        "For eg. for the above array A, the 2nd and 3rd rows are\n",
        "\n",
        "      array([[17, 15, 21, 18, 24],\n",
        "            [ 5, 15, 10, 15, 13]])"
      ],
      "metadata": {
        "id": "M3fhDXVjA-aE"
      }
    },
    {
      "cell_type": "code",
      "source": [
        "#ToDo"
      ],
      "metadata": {
        "id": "RBt_ToI-NYjf"
      },
      "execution_count": null,
      "outputs": []
    },
    {
      "cell_type": "markdown",
      "source": [
        "### 4. Broadcasting\n",
        "\n",
        "1. Broadcasting describes how NumPy treats arrays with different shapes during arithmetic operations. Subject to certain constraints, the smaller array is “broadcast” across the larger array so that they have compatible shapes. Below you can see the difference between vector addition for traditional lists and numpy arrays.\n",
        "\n",
        "\n"
      ],
      "metadata": {
        "id": "BWn8ZBo_BDAp"
      }
    },
    {
      "cell_type": "code",
      "source": [
        "# If we were not using numpy arrays, we would have to loop through the array. Run this cell.\n",
        "arr= [[27, 11, 27, 11, 20],\n",
        "       [18, 17, 24, 22, 29],\n",
        "       [ 6, 17, 13, 19, 18]]\n",
        "c= [1,2,3,4,5]\n",
        "for row in range(len(arr)):\n",
        "  for col in range(len(arr[0])):\n",
        "    arr[row][col] = arr[row][col]+c[col]\n",
        "arr"
      ],
      "metadata": {
        "id": "vFb-w52qZ1bq"
      },
      "execution_count": null,
      "outputs": []
    },
    {
      "cell_type": "markdown",
      "source": [
        "\n",
        "**Create a vector `c=[1,2,3,4,5]`. Add this vector to array `a` using numpy broadcasting. Print the result.**  [0.5 pt]\n",
        "\n",
        "For eg. for the array A - the result array would be\n",
        "\n",
        "    array([[27, 11, 27, 11, 20],\n",
        "          [18, 17, 24, 22, 29],\n",
        "          [ 6, 17, 13, 19, 18]])\n",
        "\n"
      ],
      "metadata": {
        "id": "IIUI0EpjZ42S"
      }
    },
    {
      "cell_type": "code",
      "source": [
        "#ToDo"
      ],
      "metadata": {
        "id": "l2qynQwLNptk"
      },
      "execution_count": null,
      "outputs": []
    },
    {
      "cell_type": "markdown",
      "source": [
        "2. **(True / False) Is it possible to add array b to a? Explain why?**  [0.5 pt]"
      ],
      "metadata": {
        "id": "F7ovRSJELw8u"
      }
    },
    {
      "cell_type": "code",
      "source": [
        "#ToDo"
      ],
      "metadata": {
        "id": "rbZntmdfPlhB"
      },
      "execution_count": null,
      "outputs": []
    },
    {
      "cell_type": "markdown",
      "source": [
        "### 5. Reshaping\n",
        "\n",
        "**Create a list `B=[1,2,3]` and add it to all the columns of `a`. Print the resulting array** (Hint: Use reshape and broadcasting)  [1 pt]\n",
        "\n",
        "For eg. for the modified array A, the result would be\n",
        "\n",
        "    array([[28, 12, 28, 12, 21],\n",
        "          [20, 19, 26, 24, 31],\n",
        "          [ 9, 20, 16, 22, 21]])"
      ],
      "metadata": {
        "id": "BSI_6uRXBGK9"
      }
    },
    {
      "cell_type": "code",
      "source": [
        "#ToDo"
      ],
      "metadata": {
        "id": "7PHf61u9OXjF"
      },
      "execution_count": null,
      "outputs": []
    },
    {
      "cell_type": "markdown",
      "source": [
        "### 6. Data analysis using numpy\n",
        "\n",
        "**Normalization: Substract mean from each row of array `a`. Print the result array.**. (Hint: look at numpy's mean method and it's arguments) [2 pt]\n",
        "\n",
        "For eg. for the modified array A, the expected output would be\n",
        "\n",
        "    array([[ 7.8, -8.2,  7.8, -8.2,  0.8],\n",
        "          [-4. , -5. ,  2. ,  0. ,  7. ],\n",
        "          [-8.6,  2.4, -1.6,  4.4,  3.4]])"
      ],
      "metadata": {
        "id": "h9n4jAfCT86m"
      }
    },
    {
      "cell_type": "code",
      "source": [
        "#ToDo"
      ],
      "metadata": {
        "id": "ZThEwtgOPcuW"
      },
      "execution_count": null,
      "outputs": []
    },
    {
      "cell_type": "markdown",
      "source": [
        "### 7. Data manipulation in numpy arrays.\n",
        "\n",
        "**Swap first and second row of array `a`. Print the result array.** [0.5 pt]\n",
        "\n",
        "For eg. for the modified array `a` the expected output would be\n",
        "\n",
        "    array([[20, 19, 26, 24, 31],\n",
        "          [28, 12, 28, 12, 21],\n",
        "          [ 9, 20, 16, 22, 21]])\n"
      ],
      "metadata": {
        "id": "ziRQUDSmVJxV"
      }
    },
    {
      "cell_type": "code",
      "source": [
        "#ToDo"
      ],
      "metadata": {
        "id": "DtmS9ftFSRW0"
      },
      "execution_count": null,
      "outputs": []
    },
    {
      "cell_type": "markdown",
      "source": [
        "**Swap second and third column of array `a`. Print the result array.**  [0.5 pt]\n",
        "\n",
        "For eg. for the modified array `a` the expected output would be\n",
        "   \n",
        "    array([[20, 26, 19, 24, 31],\n",
        "          [28, 28, 12, 12, 21],\n",
        "          [ 9, 16, 20, 22, 21]])"
      ],
      "metadata": {
        "id": "N46ndTN7ebmw"
      }
    },
    {
      "cell_type": "code",
      "source": [
        "#ToDo"
      ],
      "metadata": {
        "id": "gA5sQr52QGgM"
      },
      "execution_count": null,
      "outputs": []
    },
    {
      "cell_type": "markdown",
      "source": [
        "### The Power Of Numpy"
      ],
      "metadata": {
        "id": "hJ-qg1NqQCk8"
      }
    },
    {
      "cell_type": "code",
      "source": [
        "#Run this cell\n",
        "import time"
      ],
      "metadata": {
        "id": "C6h4z_D7Pl5y"
      },
      "execution_count": null,
      "outputs": []
    },
    {
      "cell_type": "code",
      "source": [
        "#Run this cell\n",
        "twoD_list = [[i for i in range(500)] for j in range(500)]"
      ],
      "metadata": {
        "id": "XJGpXcx4dVUG"
      },
      "execution_count": null,
      "outputs": []
    },
    {
      "cell_type": "code",
      "source": [
        "#Run this cell\n",
        "#This a traditional matrix multiplication using for loops\n",
        "def matrix_multiplication(x, y):\n",
        "    dp = 0\n",
        "    prod=[]\n",
        "    for i in range(len(x)):\n",
        "      row=[]\n",
        "      for j in range(len(x[0])):\n",
        "        mul=0\n",
        "        for k in range(len(x[0])):\n",
        "          mul += (x[i][k]*y[k][j])\n",
        "        row.append(mul)\n",
        "      prod.append(row)\n",
        "\n",
        "    return prod"
      ],
      "metadata": {
        "id": "7MIMNrEcJk8A"
      },
      "execution_count": null,
      "outputs": []
    },
    {
      "cell_type": "code",
      "source": [
        "#Run this cell. Note the time taken to perform traditional matrix multiplication using lists.\n",
        "start_time=time.time()\n",
        "dot_product_list = matrix_multiplication(twoD_list, twoD_list)\n",
        "end_time=time.time()\n",
        "print(end_time-start_time)"
      ],
      "metadata": {
        "id": "ZC4QpMOZG6Kh"
      },
      "execution_count": null,
      "outputs": []
    },
    {
      "cell_type": "markdown",
      "source": [
        "**Convert the `twoD_list` to a numpy array `numpy_twoD_array`. Print the numpy array**\n",
        "\n",
        "For eg.\n",
        "\n",
        "    numpy_twoD = array([[  0,   1,   2, ..., 497, 498, 499],\n",
        "                        [  0,   1,   2, ..., 497, 498, 499],\n",
        "                        [  0,   1,   2, ..., 497, 498, 499],\n",
        "                         ...,\n",
        "                        [  0,   1,   2, ..., 497, 498, 499],\n",
        "                        [  0,   1,   2, ..., 497, 498, 499],\n",
        "                        [  0,   1,   2, ..., 497, 498, 499]])"
      ],
      "metadata": {
        "id": "fOJt4uiBRaCm"
      }
    },
    {
      "cell_type": "code",
      "source": [
        "#ToDo"
      ],
      "metadata": {
        "id": "RST2DbgjHL26"
      },
      "execution_count": null,
      "outputs": []
    },
    {
      "cell_type": "markdown",
      "source": [
        "**Perform matrix multiplication of the numpy array i.e. numpy_twoD_array * numpy_twoD_array. Record and report the time taken for the operation similar to traditional list multiplication.**  [2 pt]\n",
        "\n"
      ],
      "metadata": {
        "id": "YyCZeJ8VRnRe"
      }
    },
    {
      "cell_type": "code",
      "source": [
        "start_time=time.time();\n",
        "# ToDo - Insert matrix multiplication using numpy of num_arr with itself\n",
        "\n",
        "end_time=time.time();\n",
        "print(end_time-start_time)"
      ],
      "metadata": {
        "id": "uOKV8C_8HqzJ"
      },
      "execution_count": null,
      "outputs": []
    }
  ]
}